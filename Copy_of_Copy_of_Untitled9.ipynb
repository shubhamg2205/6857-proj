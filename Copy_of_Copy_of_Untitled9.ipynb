{
  "cells": [
    {
      "cell_type": "markdown",
      "metadata": {
        "id": "view-in-github",
        "colab_type": "text"
      },
      "source": [
        "<a href=\"https://colab.research.google.com/github/shubhamg2205/6857-proj/blob/main/Copy_of_Copy_of_Untitled9.ipynb\" target=\"_parent\"><img src=\"https://colab.research.google.com/assets/colab-badge.svg\" alt=\"Open In Colab\"/></a>"
      ]
    },
    {
      "cell_type": "code",
      "execution_count": 96,
      "metadata": {
        "id": "BcyNeRXlS_It"
      },
      "outputs": [],
      "source": [
        "import numpy as np\n",
        "import pandas as pd\n",
        "import seaborn as sns\n",
        "from matplotlib import pyplot as plt\n",
        "from sklearn.cluster import KMeans\n",
        "import sklearn.preprocessing\n"
      ]
    },
    {
      "cell_type": "code",
      "source": [
        "from google.colab import drive\n",
        "drive.mount('/content/drive')"
      ],
      "metadata": {
        "id": "eeerzsq3ZXrg",
        "colab": {
          "base_uri": "https://localhost:8080/"
        },
        "outputId": "fdc690f4-df83-4e5c-ff52-f874aeef957a"
      },
      "execution_count": 97,
      "outputs": [
        {
          "output_type": "stream",
          "name": "stdout",
          "text": [
            "Drive already mounted at /content/drive; to attempt to forcibly remount, call drive.mount(\"/content/drive\", force_remount=True).\n"
          ]
        }
      ]
    },
    {
      "cell_type": "code",
      "execution_count": 98,
      "metadata": {
        "colab": {
          "base_uri": "https://localhost:8080/",
          "height": 250
        },
        "id": "T0YpnvVTXWBv",
        "outputId": "a577d04a-fd2c-45d1-b87e-45da2c2ef76f"
      },
      "outputs": [
        {
          "output_type": "execute_result",
          "data": {
            "text/plain": [
              "   customer  order  total_items  discount%  weekday  hour  Food%  Fresh%  \\\n",
              "0         0      0           45      23.03        4    13   9.46   87.06   \n",
              "1         0      1           38       1.22        5    13  15.87   75.80   \n",
              "2         0      2           51      18.08        4    13  16.88   56.75   \n",
              "3         1      3           57      16.51        1    12  28.81   35.99   \n",
              "4         1      4           53      18.31        2    11  24.13   60.38   \n",
              "\n",
              "   Drinks%  Home%  Beauty%  Health%  Baby%  Pets%  \n",
              "0     3.48   0.00     0.00     0.00    0.0    0.0  \n",
              "1     6.22   2.12     0.00     0.00    0.0    0.0  \n",
              "2     3.37  16.48     6.53     0.00    0.0    0.0  \n",
              "3    11.78   4.62     2.87    15.92    0.0    0.0  \n",
              "4     7.78   7.72     0.00     0.00    0.0    0.0  "
            ],
            "text/html": [
              "\n",
              "  <div id=\"df-a4a5afb7-7baa-4b4c-baf9-ee520cf7adb4\">\n",
              "    <div class=\"colab-df-container\">\n",
              "      <div>\n",
              "<style scoped>\n",
              "    .dataframe tbody tr th:only-of-type {\n",
              "        vertical-align: middle;\n",
              "    }\n",
              "\n",
              "    .dataframe tbody tr th {\n",
              "        vertical-align: top;\n",
              "    }\n",
              "\n",
              "    .dataframe thead th {\n",
              "        text-align: right;\n",
              "    }\n",
              "</style>\n",
              "<table border=\"1\" class=\"dataframe\">\n",
              "  <thead>\n",
              "    <tr style=\"text-align: right;\">\n",
              "      <th></th>\n",
              "      <th>customer</th>\n",
              "      <th>order</th>\n",
              "      <th>total_items</th>\n",
              "      <th>discount%</th>\n",
              "      <th>weekday</th>\n",
              "      <th>hour</th>\n",
              "      <th>Food%</th>\n",
              "      <th>Fresh%</th>\n",
              "      <th>Drinks%</th>\n",
              "      <th>Home%</th>\n",
              "      <th>Beauty%</th>\n",
              "      <th>Health%</th>\n",
              "      <th>Baby%</th>\n",
              "      <th>Pets%</th>\n",
              "    </tr>\n",
              "  </thead>\n",
              "  <tbody>\n",
              "    <tr>\n",
              "      <th>0</th>\n",
              "      <td>0</td>\n",
              "      <td>0</td>\n",
              "      <td>45</td>\n",
              "      <td>23.03</td>\n",
              "      <td>4</td>\n",
              "      <td>13</td>\n",
              "      <td>9.46</td>\n",
              "      <td>87.06</td>\n",
              "      <td>3.48</td>\n",
              "      <td>0.00</td>\n",
              "      <td>0.00</td>\n",
              "      <td>0.00</td>\n",
              "      <td>0.0</td>\n",
              "      <td>0.0</td>\n",
              "    </tr>\n",
              "    <tr>\n",
              "      <th>1</th>\n",
              "      <td>0</td>\n",
              "      <td>1</td>\n",
              "      <td>38</td>\n",
              "      <td>1.22</td>\n",
              "      <td>5</td>\n",
              "      <td>13</td>\n",
              "      <td>15.87</td>\n",
              "      <td>75.80</td>\n",
              "      <td>6.22</td>\n",
              "      <td>2.12</td>\n",
              "      <td>0.00</td>\n",
              "      <td>0.00</td>\n",
              "      <td>0.0</td>\n",
              "      <td>0.0</td>\n",
              "    </tr>\n",
              "    <tr>\n",
              "      <th>2</th>\n",
              "      <td>0</td>\n",
              "      <td>2</td>\n",
              "      <td>51</td>\n",
              "      <td>18.08</td>\n",
              "      <td>4</td>\n",
              "      <td>13</td>\n",
              "      <td>16.88</td>\n",
              "      <td>56.75</td>\n",
              "      <td>3.37</td>\n",
              "      <td>16.48</td>\n",
              "      <td>6.53</td>\n",
              "      <td>0.00</td>\n",
              "      <td>0.0</td>\n",
              "      <td>0.0</td>\n",
              "    </tr>\n",
              "    <tr>\n",
              "      <th>3</th>\n",
              "      <td>1</td>\n",
              "      <td>3</td>\n",
              "      <td>57</td>\n",
              "      <td>16.51</td>\n",
              "      <td>1</td>\n",
              "      <td>12</td>\n",
              "      <td>28.81</td>\n",
              "      <td>35.99</td>\n",
              "      <td>11.78</td>\n",
              "      <td>4.62</td>\n",
              "      <td>2.87</td>\n",
              "      <td>15.92</td>\n",
              "      <td>0.0</td>\n",
              "      <td>0.0</td>\n",
              "    </tr>\n",
              "    <tr>\n",
              "      <th>4</th>\n",
              "      <td>1</td>\n",
              "      <td>4</td>\n",
              "      <td>53</td>\n",
              "      <td>18.31</td>\n",
              "      <td>2</td>\n",
              "      <td>11</td>\n",
              "      <td>24.13</td>\n",
              "      <td>60.38</td>\n",
              "      <td>7.78</td>\n",
              "      <td>7.72</td>\n",
              "      <td>0.00</td>\n",
              "      <td>0.00</td>\n",
              "      <td>0.0</td>\n",
              "      <td>0.0</td>\n",
              "    </tr>\n",
              "  </tbody>\n",
              "</table>\n",
              "</div>\n",
              "      <button class=\"colab-df-convert\" onclick=\"convertToInteractive('df-a4a5afb7-7baa-4b4c-baf9-ee520cf7adb4')\"\n",
              "              title=\"Convert this dataframe to an interactive table.\"\n",
              "              style=\"display:none;\">\n",
              "        \n",
              "  <svg xmlns=\"http://www.w3.org/2000/svg\" height=\"24px\"viewBox=\"0 0 24 24\"\n",
              "       width=\"24px\">\n",
              "    <path d=\"M0 0h24v24H0V0z\" fill=\"none\"/>\n",
              "    <path d=\"M18.56 5.44l.94 2.06.94-2.06 2.06-.94-2.06-.94-.94-2.06-.94 2.06-2.06.94zm-11 1L8.5 8.5l.94-2.06 2.06-.94-2.06-.94L8.5 2.5l-.94 2.06-2.06.94zm10 10l.94 2.06.94-2.06 2.06-.94-2.06-.94-.94-2.06-.94 2.06-2.06.94z\"/><path d=\"M17.41 7.96l-1.37-1.37c-.4-.4-.92-.59-1.43-.59-.52 0-1.04.2-1.43.59L10.3 9.45l-7.72 7.72c-.78.78-.78 2.05 0 2.83L4 21.41c.39.39.9.59 1.41.59.51 0 1.02-.2 1.41-.59l7.78-7.78 2.81-2.81c.8-.78.8-2.07 0-2.86zM5.41 20L4 18.59l7.72-7.72 1.47 1.35L5.41 20z\"/>\n",
              "  </svg>\n",
              "      </button>\n",
              "      \n",
              "  <style>\n",
              "    .colab-df-container {\n",
              "      display:flex;\n",
              "      flex-wrap:wrap;\n",
              "      gap: 12px;\n",
              "    }\n",
              "\n",
              "    .colab-df-convert {\n",
              "      background-color: #E8F0FE;\n",
              "      border: none;\n",
              "      border-radius: 50%;\n",
              "      cursor: pointer;\n",
              "      display: none;\n",
              "      fill: #1967D2;\n",
              "      height: 32px;\n",
              "      padding: 0 0 0 0;\n",
              "      width: 32px;\n",
              "    }\n",
              "\n",
              "    .colab-df-convert:hover {\n",
              "      background-color: #E2EBFA;\n",
              "      box-shadow: 0px 1px 2px rgba(60, 64, 67, 0.3), 0px 1px 3px 1px rgba(60, 64, 67, 0.15);\n",
              "      fill: #174EA6;\n",
              "    }\n",
              "\n",
              "    [theme=dark] .colab-df-convert {\n",
              "      background-color: #3B4455;\n",
              "      fill: #D2E3FC;\n",
              "    }\n",
              "\n",
              "    [theme=dark] .colab-df-convert:hover {\n",
              "      background-color: #434B5C;\n",
              "      box-shadow: 0px 1px 3px 1px rgba(0, 0, 0, 0.15);\n",
              "      filter: drop-shadow(0px 1px 2px rgba(0, 0, 0, 0.3));\n",
              "      fill: #FFFFFF;\n",
              "    }\n",
              "  </style>\n",
              "\n",
              "      <script>\n",
              "        const buttonEl =\n",
              "          document.querySelector('#df-a4a5afb7-7baa-4b4c-baf9-ee520cf7adb4 button.colab-df-convert');\n",
              "        buttonEl.style.display =\n",
              "          google.colab.kernel.accessAllowed ? 'block' : 'none';\n",
              "\n",
              "        async function convertToInteractive(key) {\n",
              "          const element = document.querySelector('#df-a4a5afb7-7baa-4b4c-baf9-ee520cf7adb4');\n",
              "          const dataTable =\n",
              "            await google.colab.kernel.invokeFunction('convertToInteractive',\n",
              "                                                     [key], {});\n",
              "          if (!dataTable) return;\n",
              "\n",
              "          const docLinkHtml = 'Like what you see? Visit the ' +\n",
              "            '<a target=\"_blank\" href=https://colab.research.google.com/notebooks/data_table.ipynb>data table notebook</a>'\n",
              "            + ' to learn more about interactive tables.';\n",
              "          element.innerHTML = '';\n",
              "          dataTable['output_type'] = 'display_data';\n",
              "          await google.colab.output.renderOutput(dataTable, element);\n",
              "          const docLink = document.createElement('div');\n",
              "          docLink.innerHTML = docLinkHtml;\n",
              "          element.appendChild(docLink);\n",
              "        }\n",
              "      </script>\n",
              "    </div>\n",
              "  </div>\n",
              "  "
            ]
          },
          "metadata": {},
          "execution_count": 98
        }
      ],
      "source": [
        "df=pd.read_csv('/content/drive/MyDrive/CustomerData_project_genpact/orders_categories_time.csv')\n",
        "df.head()"
      ]
    },
    {
      "cell_type": "code",
      "execution_count": 99,
      "metadata": {
        "id": "M0n3_EmAXwUd",
        "colab": {
          "base_uri": "https://localhost:8080/"
        },
        "outputId": "564d066e-a57f-44d3-b962-d40771661cef"
      },
      "outputs": [
        {
          "output_type": "stream",
          "name": "stdout",
          "text": [
            "<class 'pandas.core.frame.DataFrame'>\n",
            "RangeIndex: 30000 entries, 0 to 29999\n",
            "Data columns (total 14 columns):\n",
            " #   Column       Non-Null Count  Dtype  \n",
            "---  ------       --------------  -----  \n",
            " 0   customer     30000 non-null  int64  \n",
            " 1   order        30000 non-null  int64  \n",
            " 2   total_items  30000 non-null  int64  \n",
            " 3   discount%    30000 non-null  float64\n",
            " 4   weekday      30000 non-null  int64  \n",
            " 5   hour         30000 non-null  int64  \n",
            " 6   Food%        30000 non-null  float64\n",
            " 7   Fresh%       30000 non-null  float64\n",
            " 8   Drinks%      30000 non-null  float64\n",
            " 9   Home%        30000 non-null  float64\n",
            " 10  Beauty%      30000 non-null  float64\n",
            " 11  Health%      30000 non-null  float64\n",
            " 12  Baby%        30000 non-null  float64\n",
            " 13  Pets%        30000 non-null  float64\n",
            "dtypes: float64(9), int64(5)\n",
            "memory usage: 3.2 MB\n"
          ]
        }
      ],
      "source": [
        "df.info()"
      ]
    },
    {
      "cell_type": "code",
      "execution_count": 100,
      "metadata": {
        "id": "V8Z5u_t3XzxD",
        "colab": {
          "base_uri": "https://localhost:8080/",
          "height": 364
        },
        "outputId": "a3a1b6c8-bef2-45fa-c6eb-c182734ae33c"
      },
      "outputs": [
        {
          "output_type": "execute_result",
          "data": {
            "text/plain": [
              "           customer         order   total_items     discount%       weekday  \\\n",
              "count  30000.000000  30000.000000  30000.000000  30000.000000  30000.000000   \n",
              "mean    5012.483367  14999.500000     31.739933      8.455495      3.642367   \n",
              "std     2888.646245   8660.398374     20.576579     14.199350      2.122031   \n",
              "min        0.000000      0.000000      1.000000    -65.150000      1.000000   \n",
              "25%     2541.750000   7499.750000     18.000000      1.177500      2.000000   \n",
              "50%     5043.000000  14999.500000     29.000000      4.160000      3.000000   \n",
              "75%     7483.000000  22499.250000     41.000000      9.990000      5.000000   \n",
              "max    10238.000000  29999.000000    298.000000    100.000000      7.000000   \n",
              "\n",
              "               hour         Food%        Fresh%       Drinks%         Home%  \\\n",
              "count  30000.000000  30000.000000  30000.000000  30000.000000  30000.000000   \n",
              "mean      15.034667     23.560406     20.227279     23.349235     13.539575   \n",
              "std        5.717052     21.719824     23.661767     22.523335     17.850282   \n",
              "min        0.000000      0.000000      0.000000      0.000000      0.000000   \n",
              "25%       11.000000      7.220000      0.000000      6.710000      0.000000   \n",
              "50%       15.000000     19.650000     10.930000     17.890000      7.210000   \n",
              "75%       20.000000     33.260000     35.790000     33.162500     20.002500   \n",
              "max       23.000000    100.000000    100.000000    100.000000    100.000000   \n",
              "\n",
              "            Beauty%       Health%         Baby%         Pets%  \n",
              "count  30000.000000  30000.000000  30000.000000  30000.000000  \n",
              "mean       5.892949      1.132959     11.096145      1.043087  \n",
              "std       13.996518      5.307620     24.740364      6.195390  \n",
              "min        0.000000      0.000000      0.000000      0.000000  \n",
              "25%        0.000000      0.000000      0.000000      0.000000  \n",
              "50%        0.000000      0.000000      0.000000      0.000000  \n",
              "75%        6.512500      0.000000      4.172500      0.000000  \n",
              "max      100.000000    100.000000    100.000000    100.000000  "
            ],
            "text/html": [
              "\n",
              "  <div id=\"df-7bbf7800-0e45-4b15-be83-7328d00d3d73\">\n",
              "    <div class=\"colab-df-container\">\n",
              "      <div>\n",
              "<style scoped>\n",
              "    .dataframe tbody tr th:only-of-type {\n",
              "        vertical-align: middle;\n",
              "    }\n",
              "\n",
              "    .dataframe tbody tr th {\n",
              "        vertical-align: top;\n",
              "    }\n",
              "\n",
              "    .dataframe thead th {\n",
              "        text-align: right;\n",
              "    }\n",
              "</style>\n",
              "<table border=\"1\" class=\"dataframe\">\n",
              "  <thead>\n",
              "    <tr style=\"text-align: right;\">\n",
              "      <th></th>\n",
              "      <th>customer</th>\n",
              "      <th>order</th>\n",
              "      <th>total_items</th>\n",
              "      <th>discount%</th>\n",
              "      <th>weekday</th>\n",
              "      <th>hour</th>\n",
              "      <th>Food%</th>\n",
              "      <th>Fresh%</th>\n",
              "      <th>Drinks%</th>\n",
              "      <th>Home%</th>\n",
              "      <th>Beauty%</th>\n",
              "      <th>Health%</th>\n",
              "      <th>Baby%</th>\n",
              "      <th>Pets%</th>\n",
              "    </tr>\n",
              "  </thead>\n",
              "  <tbody>\n",
              "    <tr>\n",
              "      <th>count</th>\n",
              "      <td>30000.000000</td>\n",
              "      <td>30000.000000</td>\n",
              "      <td>30000.000000</td>\n",
              "      <td>30000.000000</td>\n",
              "      <td>30000.000000</td>\n",
              "      <td>30000.000000</td>\n",
              "      <td>30000.000000</td>\n",
              "      <td>30000.000000</td>\n",
              "      <td>30000.000000</td>\n",
              "      <td>30000.000000</td>\n",
              "      <td>30000.000000</td>\n",
              "      <td>30000.000000</td>\n",
              "      <td>30000.000000</td>\n",
              "      <td>30000.000000</td>\n",
              "    </tr>\n",
              "    <tr>\n",
              "      <th>mean</th>\n",
              "      <td>5012.483367</td>\n",
              "      <td>14999.500000</td>\n",
              "      <td>31.739933</td>\n",
              "      <td>8.455495</td>\n",
              "      <td>3.642367</td>\n",
              "      <td>15.034667</td>\n",
              "      <td>23.560406</td>\n",
              "      <td>20.227279</td>\n",
              "      <td>23.349235</td>\n",
              "      <td>13.539575</td>\n",
              "      <td>5.892949</td>\n",
              "      <td>1.132959</td>\n",
              "      <td>11.096145</td>\n",
              "      <td>1.043087</td>\n",
              "    </tr>\n",
              "    <tr>\n",
              "      <th>std</th>\n",
              "      <td>2888.646245</td>\n",
              "      <td>8660.398374</td>\n",
              "      <td>20.576579</td>\n",
              "      <td>14.199350</td>\n",
              "      <td>2.122031</td>\n",
              "      <td>5.717052</td>\n",
              "      <td>21.719824</td>\n",
              "      <td>23.661767</td>\n",
              "      <td>22.523335</td>\n",
              "      <td>17.850282</td>\n",
              "      <td>13.996518</td>\n",
              "      <td>5.307620</td>\n",
              "      <td>24.740364</td>\n",
              "      <td>6.195390</td>\n",
              "    </tr>\n",
              "    <tr>\n",
              "      <th>min</th>\n",
              "      <td>0.000000</td>\n",
              "      <td>0.000000</td>\n",
              "      <td>1.000000</td>\n",
              "      <td>-65.150000</td>\n",
              "      <td>1.000000</td>\n",
              "      <td>0.000000</td>\n",
              "      <td>0.000000</td>\n",
              "      <td>0.000000</td>\n",
              "      <td>0.000000</td>\n",
              "      <td>0.000000</td>\n",
              "      <td>0.000000</td>\n",
              "      <td>0.000000</td>\n",
              "      <td>0.000000</td>\n",
              "      <td>0.000000</td>\n",
              "    </tr>\n",
              "    <tr>\n",
              "      <th>25%</th>\n",
              "      <td>2541.750000</td>\n",
              "      <td>7499.750000</td>\n",
              "      <td>18.000000</td>\n",
              "      <td>1.177500</td>\n",
              "      <td>2.000000</td>\n",
              "      <td>11.000000</td>\n",
              "      <td>7.220000</td>\n",
              "      <td>0.000000</td>\n",
              "      <td>6.710000</td>\n",
              "      <td>0.000000</td>\n",
              "      <td>0.000000</td>\n",
              "      <td>0.000000</td>\n",
              "      <td>0.000000</td>\n",
              "      <td>0.000000</td>\n",
              "    </tr>\n",
              "    <tr>\n",
              "      <th>50%</th>\n",
              "      <td>5043.000000</td>\n",
              "      <td>14999.500000</td>\n",
              "      <td>29.000000</td>\n",
              "      <td>4.160000</td>\n",
              "      <td>3.000000</td>\n",
              "      <td>15.000000</td>\n",
              "      <td>19.650000</td>\n",
              "      <td>10.930000</td>\n",
              "      <td>17.890000</td>\n",
              "      <td>7.210000</td>\n",
              "      <td>0.000000</td>\n",
              "      <td>0.000000</td>\n",
              "      <td>0.000000</td>\n",
              "      <td>0.000000</td>\n",
              "    </tr>\n",
              "    <tr>\n",
              "      <th>75%</th>\n",
              "      <td>7483.000000</td>\n",
              "      <td>22499.250000</td>\n",
              "      <td>41.000000</td>\n",
              "      <td>9.990000</td>\n",
              "      <td>5.000000</td>\n",
              "      <td>20.000000</td>\n",
              "      <td>33.260000</td>\n",
              "      <td>35.790000</td>\n",
              "      <td>33.162500</td>\n",
              "      <td>20.002500</td>\n",
              "      <td>6.512500</td>\n",
              "      <td>0.000000</td>\n",
              "      <td>4.172500</td>\n",
              "      <td>0.000000</td>\n",
              "    </tr>\n",
              "    <tr>\n",
              "      <th>max</th>\n",
              "      <td>10238.000000</td>\n",
              "      <td>29999.000000</td>\n",
              "      <td>298.000000</td>\n",
              "      <td>100.000000</td>\n",
              "      <td>7.000000</td>\n",
              "      <td>23.000000</td>\n",
              "      <td>100.000000</td>\n",
              "      <td>100.000000</td>\n",
              "      <td>100.000000</td>\n",
              "      <td>100.000000</td>\n",
              "      <td>100.000000</td>\n",
              "      <td>100.000000</td>\n",
              "      <td>100.000000</td>\n",
              "      <td>100.000000</td>\n",
              "    </tr>\n",
              "  </tbody>\n",
              "</table>\n",
              "</div>\n",
              "      <button class=\"colab-df-convert\" onclick=\"convertToInteractive('df-7bbf7800-0e45-4b15-be83-7328d00d3d73')\"\n",
              "              title=\"Convert this dataframe to an interactive table.\"\n",
              "              style=\"display:none;\">\n",
              "        \n",
              "  <svg xmlns=\"http://www.w3.org/2000/svg\" height=\"24px\"viewBox=\"0 0 24 24\"\n",
              "       width=\"24px\">\n",
              "    <path d=\"M0 0h24v24H0V0z\" fill=\"none\"/>\n",
              "    <path d=\"M18.56 5.44l.94 2.06.94-2.06 2.06-.94-2.06-.94-.94-2.06-.94 2.06-2.06.94zm-11 1L8.5 8.5l.94-2.06 2.06-.94-2.06-.94L8.5 2.5l-.94 2.06-2.06.94zm10 10l.94 2.06.94-2.06 2.06-.94-2.06-.94-.94-2.06-.94 2.06-2.06.94z\"/><path d=\"M17.41 7.96l-1.37-1.37c-.4-.4-.92-.59-1.43-.59-.52 0-1.04.2-1.43.59L10.3 9.45l-7.72 7.72c-.78.78-.78 2.05 0 2.83L4 21.41c.39.39.9.59 1.41.59.51 0 1.02-.2 1.41-.59l7.78-7.78 2.81-2.81c.8-.78.8-2.07 0-2.86zM5.41 20L4 18.59l7.72-7.72 1.47 1.35L5.41 20z\"/>\n",
              "  </svg>\n",
              "      </button>\n",
              "      \n",
              "  <style>\n",
              "    .colab-df-container {\n",
              "      display:flex;\n",
              "      flex-wrap:wrap;\n",
              "      gap: 12px;\n",
              "    }\n",
              "\n",
              "    .colab-df-convert {\n",
              "      background-color: #E8F0FE;\n",
              "      border: none;\n",
              "      border-radius: 50%;\n",
              "      cursor: pointer;\n",
              "      display: none;\n",
              "      fill: #1967D2;\n",
              "      height: 32px;\n",
              "      padding: 0 0 0 0;\n",
              "      width: 32px;\n",
              "    }\n",
              "\n",
              "    .colab-df-convert:hover {\n",
              "      background-color: #E2EBFA;\n",
              "      box-shadow: 0px 1px 2px rgba(60, 64, 67, 0.3), 0px 1px 3px 1px rgba(60, 64, 67, 0.15);\n",
              "      fill: #174EA6;\n",
              "    }\n",
              "\n",
              "    [theme=dark] .colab-df-convert {\n",
              "      background-color: #3B4455;\n",
              "      fill: #D2E3FC;\n",
              "    }\n",
              "\n",
              "    [theme=dark] .colab-df-convert:hover {\n",
              "      background-color: #434B5C;\n",
              "      box-shadow: 0px 1px 3px 1px rgba(0, 0, 0, 0.15);\n",
              "      filter: drop-shadow(0px 1px 2px rgba(0, 0, 0, 0.3));\n",
              "      fill: #FFFFFF;\n",
              "    }\n",
              "  </style>\n",
              "\n",
              "      <script>\n",
              "        const buttonEl =\n",
              "          document.querySelector('#df-7bbf7800-0e45-4b15-be83-7328d00d3d73 button.colab-df-convert');\n",
              "        buttonEl.style.display =\n",
              "          google.colab.kernel.accessAllowed ? 'block' : 'none';\n",
              "\n",
              "        async function convertToInteractive(key) {\n",
              "          const element = document.querySelector('#df-7bbf7800-0e45-4b15-be83-7328d00d3d73');\n",
              "          const dataTable =\n",
              "            await google.colab.kernel.invokeFunction('convertToInteractive',\n",
              "                                                     [key], {});\n",
              "          if (!dataTable) return;\n",
              "\n",
              "          const docLinkHtml = 'Like what you see? Visit the ' +\n",
              "            '<a target=\"_blank\" href=https://colab.research.google.com/notebooks/data_table.ipynb>data table notebook</a>'\n",
              "            + ' to learn more about interactive tables.';\n",
              "          element.innerHTML = '';\n",
              "          dataTable['output_type'] = 'display_data';\n",
              "          await google.colab.output.renderOutput(dataTable, element);\n",
              "          const docLink = document.createElement('div');\n",
              "          docLink.innerHTML = docLinkHtml;\n",
              "          element.appendChild(docLink);\n",
              "        }\n",
              "      </script>\n",
              "    </div>\n",
              "  </div>\n",
              "  "
            ]
          },
          "metadata": {},
          "execution_count": 100
        }
      ],
      "source": [
        "df.describe()"
      ]
    },
    {
      "cell_type": "code",
      "execution_count": 101,
      "metadata": {
        "id": "ZqbBhcgfX5YI"
      },
      "outputs": [],
      "source": [
        "df=df.drop(columns=['order','Baby%','Health%','Pets%'])"
      ]
    },
    {
      "cell_type": "code",
      "execution_count": 102,
      "metadata": {
        "id": "7_HQ-6t2Yevb",
        "colab": {
          "base_uri": "https://localhost:8080/",
          "height": 206
        },
        "outputId": "2c846a95-6f51-4efc-e920-d115d022b741"
      },
      "outputs": [
        {
          "output_type": "execute_result",
          "data": {
            "text/plain": [
              "   customer  total_items  discount%  weekday  hour  Food%  Fresh%  Drinks%  \\\n",
              "0         0           45      23.03        4    13   9.46   87.06     3.48   \n",
              "1         0           38       1.22        5    13  15.87   75.80     6.22   \n",
              "2         0           51      18.08        4    13  16.88   56.75     3.37   \n",
              "3         1           57      16.51        1    12  28.81   35.99    11.78   \n",
              "4         1           53      18.31        2    11  24.13   60.38     7.78   \n",
              "\n",
              "   Home%  Beauty%  \n",
              "0   0.00     0.00  \n",
              "1   2.12     0.00  \n",
              "2  16.48     6.53  \n",
              "3   4.62     2.87  \n",
              "4   7.72     0.00  "
            ],
            "text/html": [
              "\n",
              "  <div id=\"df-354d99a4-e72b-4e7a-8a94-5f5668302fe2\">\n",
              "    <div class=\"colab-df-container\">\n",
              "      <div>\n",
              "<style scoped>\n",
              "    .dataframe tbody tr th:only-of-type {\n",
              "        vertical-align: middle;\n",
              "    }\n",
              "\n",
              "    .dataframe tbody tr th {\n",
              "        vertical-align: top;\n",
              "    }\n",
              "\n",
              "    .dataframe thead th {\n",
              "        text-align: right;\n",
              "    }\n",
              "</style>\n",
              "<table border=\"1\" class=\"dataframe\">\n",
              "  <thead>\n",
              "    <tr style=\"text-align: right;\">\n",
              "      <th></th>\n",
              "      <th>customer</th>\n",
              "      <th>total_items</th>\n",
              "      <th>discount%</th>\n",
              "      <th>weekday</th>\n",
              "      <th>hour</th>\n",
              "      <th>Food%</th>\n",
              "      <th>Fresh%</th>\n",
              "      <th>Drinks%</th>\n",
              "      <th>Home%</th>\n",
              "      <th>Beauty%</th>\n",
              "    </tr>\n",
              "  </thead>\n",
              "  <tbody>\n",
              "    <tr>\n",
              "      <th>0</th>\n",
              "      <td>0</td>\n",
              "      <td>45</td>\n",
              "      <td>23.03</td>\n",
              "      <td>4</td>\n",
              "      <td>13</td>\n",
              "      <td>9.46</td>\n",
              "      <td>87.06</td>\n",
              "      <td>3.48</td>\n",
              "      <td>0.00</td>\n",
              "      <td>0.00</td>\n",
              "    </tr>\n",
              "    <tr>\n",
              "      <th>1</th>\n",
              "      <td>0</td>\n",
              "      <td>38</td>\n",
              "      <td>1.22</td>\n",
              "      <td>5</td>\n",
              "      <td>13</td>\n",
              "      <td>15.87</td>\n",
              "      <td>75.80</td>\n",
              "      <td>6.22</td>\n",
              "      <td>2.12</td>\n",
              "      <td>0.00</td>\n",
              "    </tr>\n",
              "    <tr>\n",
              "      <th>2</th>\n",
              "      <td>0</td>\n",
              "      <td>51</td>\n",
              "      <td>18.08</td>\n",
              "      <td>4</td>\n",
              "      <td>13</td>\n",
              "      <td>16.88</td>\n",
              "      <td>56.75</td>\n",
              "      <td>3.37</td>\n",
              "      <td>16.48</td>\n",
              "      <td>6.53</td>\n",
              "    </tr>\n",
              "    <tr>\n",
              "      <th>3</th>\n",
              "      <td>1</td>\n",
              "      <td>57</td>\n",
              "      <td>16.51</td>\n",
              "      <td>1</td>\n",
              "      <td>12</td>\n",
              "      <td>28.81</td>\n",
              "      <td>35.99</td>\n",
              "      <td>11.78</td>\n",
              "      <td>4.62</td>\n",
              "      <td>2.87</td>\n",
              "    </tr>\n",
              "    <tr>\n",
              "      <th>4</th>\n",
              "      <td>1</td>\n",
              "      <td>53</td>\n",
              "      <td>18.31</td>\n",
              "      <td>2</td>\n",
              "      <td>11</td>\n",
              "      <td>24.13</td>\n",
              "      <td>60.38</td>\n",
              "      <td>7.78</td>\n",
              "      <td>7.72</td>\n",
              "      <td>0.00</td>\n",
              "    </tr>\n",
              "  </tbody>\n",
              "</table>\n",
              "</div>\n",
              "      <button class=\"colab-df-convert\" onclick=\"convertToInteractive('df-354d99a4-e72b-4e7a-8a94-5f5668302fe2')\"\n",
              "              title=\"Convert this dataframe to an interactive table.\"\n",
              "              style=\"display:none;\">\n",
              "        \n",
              "  <svg xmlns=\"http://www.w3.org/2000/svg\" height=\"24px\"viewBox=\"0 0 24 24\"\n",
              "       width=\"24px\">\n",
              "    <path d=\"M0 0h24v24H0V0z\" fill=\"none\"/>\n",
              "    <path d=\"M18.56 5.44l.94 2.06.94-2.06 2.06-.94-2.06-.94-.94-2.06-.94 2.06-2.06.94zm-11 1L8.5 8.5l.94-2.06 2.06-.94-2.06-.94L8.5 2.5l-.94 2.06-2.06.94zm10 10l.94 2.06.94-2.06 2.06-.94-2.06-.94-.94-2.06-.94 2.06-2.06.94z\"/><path d=\"M17.41 7.96l-1.37-1.37c-.4-.4-.92-.59-1.43-.59-.52 0-1.04.2-1.43.59L10.3 9.45l-7.72 7.72c-.78.78-.78 2.05 0 2.83L4 21.41c.39.39.9.59 1.41.59.51 0 1.02-.2 1.41-.59l7.78-7.78 2.81-2.81c.8-.78.8-2.07 0-2.86zM5.41 20L4 18.59l7.72-7.72 1.47 1.35L5.41 20z\"/>\n",
              "  </svg>\n",
              "      </button>\n",
              "      \n",
              "  <style>\n",
              "    .colab-df-container {\n",
              "      display:flex;\n",
              "      flex-wrap:wrap;\n",
              "      gap: 12px;\n",
              "    }\n",
              "\n",
              "    .colab-df-convert {\n",
              "      background-color: #E8F0FE;\n",
              "      border: none;\n",
              "      border-radius: 50%;\n",
              "      cursor: pointer;\n",
              "      display: none;\n",
              "      fill: #1967D2;\n",
              "      height: 32px;\n",
              "      padding: 0 0 0 0;\n",
              "      width: 32px;\n",
              "    }\n",
              "\n",
              "    .colab-df-convert:hover {\n",
              "      background-color: #E2EBFA;\n",
              "      box-shadow: 0px 1px 2px rgba(60, 64, 67, 0.3), 0px 1px 3px 1px rgba(60, 64, 67, 0.15);\n",
              "      fill: #174EA6;\n",
              "    }\n",
              "\n",
              "    [theme=dark] .colab-df-convert {\n",
              "      background-color: #3B4455;\n",
              "      fill: #D2E3FC;\n",
              "    }\n",
              "\n",
              "    [theme=dark] .colab-df-convert:hover {\n",
              "      background-color: #434B5C;\n",
              "      box-shadow: 0px 1px 3px 1px rgba(0, 0, 0, 0.15);\n",
              "      filter: drop-shadow(0px 1px 2px rgba(0, 0, 0, 0.3));\n",
              "      fill: #FFFFFF;\n",
              "    }\n",
              "  </style>\n",
              "\n",
              "      <script>\n",
              "        const buttonEl =\n",
              "          document.querySelector('#df-354d99a4-e72b-4e7a-8a94-5f5668302fe2 button.colab-df-convert');\n",
              "        buttonEl.style.display =\n",
              "          google.colab.kernel.accessAllowed ? 'block' : 'none';\n",
              "\n",
              "        async function convertToInteractive(key) {\n",
              "          const element = document.querySelector('#df-354d99a4-e72b-4e7a-8a94-5f5668302fe2');\n",
              "          const dataTable =\n",
              "            await google.colab.kernel.invokeFunction('convertToInteractive',\n",
              "                                                     [key], {});\n",
              "          if (!dataTable) return;\n",
              "\n",
              "          const docLinkHtml = 'Like what you see? Visit the ' +\n",
              "            '<a target=\"_blank\" href=https://colab.research.google.com/notebooks/data_table.ipynb>data table notebook</a>'\n",
              "            + ' to learn more about interactive tables.';\n",
              "          element.innerHTML = '';\n",
              "          dataTable['output_type'] = 'display_data';\n",
              "          await google.colab.output.renderOutput(dataTable, element);\n",
              "          const docLink = document.createElement('div');\n",
              "          docLink.innerHTML = docLinkHtml;\n",
              "          element.appendChild(docLink);\n",
              "        }\n",
              "      </script>\n",
              "    </div>\n",
              "  </div>\n",
              "  "
            ]
          },
          "metadata": {},
          "execution_count": 102
        }
      ],
      "source": [
        "df.head()"
      ]
    },
    {
      "cell_type": "code",
      "source": [
        "for i in df.columns:\n",
        "  print(df[i].value_counts())"
      ],
      "metadata": {
        "id": "v6vRZmXAd8ay",
        "colab": {
          "base_uri": "https://localhost:8080/"
        },
        "outputId": "a7954cc7-e33f-44e8-f712-140e54cb0661"
      },
      "execution_count": 103,
      "outputs": [
        {
          "output_type": "stream",
          "name": "stdout",
          "text": [
            "6560     52\n",
            "7688     40\n",
            "7776     37\n",
            "657      36\n",
            "4713     31\n",
            "         ..\n",
            "4764      1\n",
            "4763      1\n",
            "4762      1\n",
            "4761      1\n",
            "10238     1\n",
            "Name: customer, Length: 10239, dtype: int64\n",
            "25     850\n",
            "27     824\n",
            "26     817\n",
            "28     800\n",
            "31     800\n",
            "      ... \n",
            "136      1\n",
            "138      1\n",
            "155      1\n",
            "146      1\n",
            "282      1\n",
            "Name: total_items, Length: 173, dtype: int64\n",
            " 0.00      3985\n",
            " 100.00     396\n",
            " 9.64       121\n",
            " 0.16        55\n",
            " 0.17        54\n",
            "           ... \n",
            " 69.73        1\n",
            " 26.35        1\n",
            " 47.21        1\n",
            "-1.99         1\n",
            " 32.89        1\n",
            "Name: discount%, Length: 3579, dtype: int64\n",
            "1    6237\n",
            "7    5160\n",
            "2    4970\n",
            "3    4708\n",
            "4    4081\n",
            "5    2538\n",
            "6    2306\n",
            "Name: weekday, dtype: int64\n",
            "22    2491\n",
            "21    2306\n",
            "12    2211\n",
            "11    2184\n",
            "20    2040\n",
            "10    2024\n",
            "13    1983\n",
            "23    1875\n",
            "19    1775\n",
            "18    1539\n",
            "17    1455\n",
            "9     1401\n",
            "16    1281\n",
            "15    1268\n",
            "14    1222\n",
            "8      926\n",
            "0      926\n",
            "7      358\n",
            "1      310\n",
            "6      125\n",
            "2      119\n",
            "3       76\n",
            "5       57\n",
            "4       48\n",
            "Name: hour, dtype: int64\n",
            "0.00      4946\n",
            "100.00     728\n",
            "21.12       16\n",
            "10.67       15\n",
            "20.31       15\n",
            "          ... \n",
            "38.80        1\n",
            "62.57        1\n",
            "61.01        1\n",
            "68.82        1\n",
            "61.32        1\n",
            "Name: Food%, Length: 6344, dtype: int64\n",
            "0.00      11635\n",
            "100.00      137\n",
            "3.81         12\n",
            "5.76         10\n",
            "23.52         9\n",
            "          ...  \n",
            "15.66         1\n",
            "50.49         1\n",
            "64.40         1\n",
            "4.38          1\n",
            "56.94         1\n",
            "Name: Fresh%, Length: 7002, dtype: int64\n",
            "0.00      5077\n",
            "100.00     585\n",
            "11.53       17\n",
            "7.56        17\n",
            "10.82       15\n",
            "          ... \n",
            "33.87        1\n",
            "65.98        1\n",
            "63.17        1\n",
            "55.91        1\n",
            "77.48        1\n",
            "Name: Drinks%, Length: 6714, dtype: int64\n",
            "0.00      9686\n",
            "100.00     218\n",
            "3.78        19\n",
            "5.41        18\n",
            "3.81        17\n",
            "          ... \n",
            "52.36        1\n",
            "45.74        1\n",
            "41.25        1\n",
            "40.65        1\n",
            "41.46        1\n",
            "Name: Home%, Length: 5412, dtype: int64\n",
            "0.00      17603\n",
            "100.00      313\n",
            "89.69        85\n",
            "2.17         23\n",
            "5.38         22\n",
            "          ...  \n",
            "36.23         1\n",
            "43.83         1\n",
            "36.16         1\n",
            "16.09         1\n",
            "90.67         1\n",
            "Name: Beauty%, Length: 3160, dtype: int64\n"
          ]
        }
      ]
    },
    {
      "cell_type": "code",
      "execution_count": 104,
      "metadata": {
        "id": "XeOeLLpgc1II"
      },
      "outputs": [],
      "source": [
        "scaler = sklearn.preprocessing.MinMaxScaler()\n",
        "features_normal = scaler.fit_transform(df)\n"
      ]
    },
    {
      "cell_type": "code",
      "execution_count": 105,
      "metadata": {
        "id": "2XhfmSyWTsP0",
        "colab": {
          "base_uri": "https://localhost:8080/",
          "height": 206
        },
        "outputId": "ed5f1864-bfd0-4a3e-89b3-76c520762d26"
      },
      "outputs": [
        {
          "output_type": "execute_result",
          "data": {
            "text/plain": [
              "   customer  total_items  discount%   weekday      hour   Food%  Fresh%  \\\n",
              "0  0.000000     0.148148   0.533939  0.500000  0.565217  0.0946  0.8706   \n",
              "1  0.000000     0.124579   0.401877  0.666667  0.565217  0.1587  0.7580   \n",
              "2  0.000000     0.168350   0.503966  0.500000  0.565217  0.1688  0.5675   \n",
              "3  0.000098     0.188552   0.494460  0.000000  0.521739  0.2881  0.3599   \n",
              "4  0.000098     0.175084   0.505359  0.166667  0.478261  0.2413  0.6038   \n",
              "\n",
              "   Drinks%   Home%  Beauty%  \n",
              "0   0.0348  0.0000   0.0000  \n",
              "1   0.0622  0.0212   0.0000  \n",
              "2   0.0337  0.1648   0.0653  \n",
              "3   0.1178  0.0462   0.0287  \n",
              "4   0.0778  0.0772   0.0000  "
            ],
            "text/html": [
              "\n",
              "  <div id=\"df-8423b57f-cb78-4a65-8de1-65fec5923e2d\">\n",
              "    <div class=\"colab-df-container\">\n",
              "      <div>\n",
              "<style scoped>\n",
              "    .dataframe tbody tr th:only-of-type {\n",
              "        vertical-align: middle;\n",
              "    }\n",
              "\n",
              "    .dataframe tbody tr th {\n",
              "        vertical-align: top;\n",
              "    }\n",
              "\n",
              "    .dataframe thead th {\n",
              "        text-align: right;\n",
              "    }\n",
              "</style>\n",
              "<table border=\"1\" class=\"dataframe\">\n",
              "  <thead>\n",
              "    <tr style=\"text-align: right;\">\n",
              "      <th></th>\n",
              "      <th>customer</th>\n",
              "      <th>total_items</th>\n",
              "      <th>discount%</th>\n",
              "      <th>weekday</th>\n",
              "      <th>hour</th>\n",
              "      <th>Food%</th>\n",
              "      <th>Fresh%</th>\n",
              "      <th>Drinks%</th>\n",
              "      <th>Home%</th>\n",
              "      <th>Beauty%</th>\n",
              "    </tr>\n",
              "  </thead>\n",
              "  <tbody>\n",
              "    <tr>\n",
              "      <th>0</th>\n",
              "      <td>0.000000</td>\n",
              "      <td>0.148148</td>\n",
              "      <td>0.533939</td>\n",
              "      <td>0.500000</td>\n",
              "      <td>0.565217</td>\n",
              "      <td>0.0946</td>\n",
              "      <td>0.8706</td>\n",
              "      <td>0.0348</td>\n",
              "      <td>0.0000</td>\n",
              "      <td>0.0000</td>\n",
              "    </tr>\n",
              "    <tr>\n",
              "      <th>1</th>\n",
              "      <td>0.000000</td>\n",
              "      <td>0.124579</td>\n",
              "      <td>0.401877</td>\n",
              "      <td>0.666667</td>\n",
              "      <td>0.565217</td>\n",
              "      <td>0.1587</td>\n",
              "      <td>0.7580</td>\n",
              "      <td>0.0622</td>\n",
              "      <td>0.0212</td>\n",
              "      <td>0.0000</td>\n",
              "    </tr>\n",
              "    <tr>\n",
              "      <th>2</th>\n",
              "      <td>0.000000</td>\n",
              "      <td>0.168350</td>\n",
              "      <td>0.503966</td>\n",
              "      <td>0.500000</td>\n",
              "      <td>0.565217</td>\n",
              "      <td>0.1688</td>\n",
              "      <td>0.5675</td>\n",
              "      <td>0.0337</td>\n",
              "      <td>0.1648</td>\n",
              "      <td>0.0653</td>\n",
              "    </tr>\n",
              "    <tr>\n",
              "      <th>3</th>\n",
              "      <td>0.000098</td>\n",
              "      <td>0.188552</td>\n",
              "      <td>0.494460</td>\n",
              "      <td>0.000000</td>\n",
              "      <td>0.521739</td>\n",
              "      <td>0.2881</td>\n",
              "      <td>0.3599</td>\n",
              "      <td>0.1178</td>\n",
              "      <td>0.0462</td>\n",
              "      <td>0.0287</td>\n",
              "    </tr>\n",
              "    <tr>\n",
              "      <th>4</th>\n",
              "      <td>0.000098</td>\n",
              "      <td>0.175084</td>\n",
              "      <td>0.505359</td>\n",
              "      <td>0.166667</td>\n",
              "      <td>0.478261</td>\n",
              "      <td>0.2413</td>\n",
              "      <td>0.6038</td>\n",
              "      <td>0.0778</td>\n",
              "      <td>0.0772</td>\n",
              "      <td>0.0000</td>\n",
              "    </tr>\n",
              "  </tbody>\n",
              "</table>\n",
              "</div>\n",
              "      <button class=\"colab-df-convert\" onclick=\"convertToInteractive('df-8423b57f-cb78-4a65-8de1-65fec5923e2d')\"\n",
              "              title=\"Convert this dataframe to an interactive table.\"\n",
              "              style=\"display:none;\">\n",
              "        \n",
              "  <svg xmlns=\"http://www.w3.org/2000/svg\" height=\"24px\"viewBox=\"0 0 24 24\"\n",
              "       width=\"24px\">\n",
              "    <path d=\"M0 0h24v24H0V0z\" fill=\"none\"/>\n",
              "    <path d=\"M18.56 5.44l.94 2.06.94-2.06 2.06-.94-2.06-.94-.94-2.06-.94 2.06-2.06.94zm-11 1L8.5 8.5l.94-2.06 2.06-.94-2.06-.94L8.5 2.5l-.94 2.06-2.06.94zm10 10l.94 2.06.94-2.06 2.06-.94-2.06-.94-.94-2.06-.94 2.06-2.06.94z\"/><path d=\"M17.41 7.96l-1.37-1.37c-.4-.4-.92-.59-1.43-.59-.52 0-1.04.2-1.43.59L10.3 9.45l-7.72 7.72c-.78.78-.78 2.05 0 2.83L4 21.41c.39.39.9.59 1.41.59.51 0 1.02-.2 1.41-.59l7.78-7.78 2.81-2.81c.8-.78.8-2.07 0-2.86zM5.41 20L4 18.59l7.72-7.72 1.47 1.35L5.41 20z\"/>\n",
              "  </svg>\n",
              "      </button>\n",
              "      \n",
              "  <style>\n",
              "    .colab-df-container {\n",
              "      display:flex;\n",
              "      flex-wrap:wrap;\n",
              "      gap: 12px;\n",
              "    }\n",
              "\n",
              "    .colab-df-convert {\n",
              "      background-color: #E8F0FE;\n",
              "      border: none;\n",
              "      border-radius: 50%;\n",
              "      cursor: pointer;\n",
              "      display: none;\n",
              "      fill: #1967D2;\n",
              "      height: 32px;\n",
              "      padding: 0 0 0 0;\n",
              "      width: 32px;\n",
              "    }\n",
              "\n",
              "    .colab-df-convert:hover {\n",
              "      background-color: #E2EBFA;\n",
              "      box-shadow: 0px 1px 2px rgba(60, 64, 67, 0.3), 0px 1px 3px 1px rgba(60, 64, 67, 0.15);\n",
              "      fill: #174EA6;\n",
              "    }\n",
              "\n",
              "    [theme=dark] .colab-df-convert {\n",
              "      background-color: #3B4455;\n",
              "      fill: #D2E3FC;\n",
              "    }\n",
              "\n",
              "    [theme=dark] .colab-df-convert:hover {\n",
              "      background-color: #434B5C;\n",
              "      box-shadow: 0px 1px 3px 1px rgba(0, 0, 0, 0.15);\n",
              "      filter: drop-shadow(0px 1px 2px rgba(0, 0, 0, 0.3));\n",
              "      fill: #FFFFFF;\n",
              "    }\n",
              "  </style>\n",
              "\n",
              "      <script>\n",
              "        const buttonEl =\n",
              "          document.querySelector('#df-8423b57f-cb78-4a65-8de1-65fec5923e2d button.colab-df-convert');\n",
              "        buttonEl.style.display =\n",
              "          google.colab.kernel.accessAllowed ? 'block' : 'none';\n",
              "\n",
              "        async function convertToInteractive(key) {\n",
              "          const element = document.querySelector('#df-8423b57f-cb78-4a65-8de1-65fec5923e2d');\n",
              "          const dataTable =\n",
              "            await google.colab.kernel.invokeFunction('convertToInteractive',\n",
              "                                                     [key], {});\n",
              "          if (!dataTable) return;\n",
              "\n",
              "          const docLinkHtml = 'Like what you see? Visit the ' +\n",
              "            '<a target=\"_blank\" href=https://colab.research.google.com/notebooks/data_table.ipynb>data table notebook</a>'\n",
              "            + ' to learn more about interactive tables.';\n",
              "          element.innerHTML = '';\n",
              "          dataTable['output_type'] = 'display_data';\n",
              "          await google.colab.output.renderOutput(dataTable, element);\n",
              "          const docLink = document.createElement('div');\n",
              "          docLink.innerHTML = docLinkHtml;\n",
              "          element.appendChild(docLink);\n",
              "        }\n",
              "      </script>\n",
              "    </div>\n",
              "  </div>\n",
              "  "
            ]
          },
          "metadata": {},
          "execution_count": 105
        }
      ],
      "source": [
        "df_scaled=pd.DataFrame(features_normal,columns=df.columns)\n",
        "df_scaled.head()"
      ]
    },
    {
      "cell_type": "code",
      "execution_count": 106,
      "metadata": {
        "id": "31t6Fb_WdIgX"
      },
      "outputs": [],
      "source": [
        "wcss=[]\n",
        "\n",
        "for i in range(1,20):\n",
        "  kmeans=KMeans(n_clusters=i,init='k-means++',random_state=90)\n",
        "  kmeans.fit(features_normal)\n",
        "\n",
        "  wcss.append(kmeans.inertia_)\n"
      ]
    },
    {
      "cell_type": "code",
      "execution_count": 107,
      "metadata": {
        "id": "KtDqJPfh7IVf",
        "colab": {
          "base_uri": "https://localhost:8080/",
          "height": 301
        },
        "outputId": "33cc5cf7-78b5-4a03-9ff1-8c8679a41f7e"
      },
      "outputs": [
        {
          "output_type": "display_data",
          "data": {
            "text/plain": [
              "<Figure size 432x288 with 1 Axes>"
            ],
            "image/png": "[encoded data removed]"
          },
          "metadata": {}
        }
      ],
      "source": [
        "#plot elbow graph \n",
        "sns.set()\n",
        "plt.plot(range(1,20),wcss,'bx-')\n",
        "plt.title('The Graph')\n",
        "plt.xlabel('No of clusters')\n",
        "plt.ylabel('WCSS')\n",
        "plt.show()"
      ]
    },
    {
      "cell_type": "code",
      "execution_count": 108,
      "metadata": {
        "id": "0pNe_FBz7jcL"
      },
      "outputs": [],
      "source": [
        "kmeans=KMeans(n_clusters=5,init='k-means++',random_state=4)\n",
        "Y=kmeans.fit_predict(features_normal)"
      ]
    },
    {
      "cell_type": "code",
      "execution_count": 109,
      "metadata": {
        "id": "4dVbzAgVAqkn"
      },
      "outputs": [],
      "source": [
        "labels = pd.DataFrame(kmeans.labels_) #This is where the label output of the KMeans we just ran lives. Make it a dataframe so we can concatenate back to the original data\n",
        "df_labels = pd.concat((df,labels),axis=1)\n",
        "df_labels= df_labels.rename({0:'labels'},axis=1)"
      ]
    },
    {
      "cell_type": "code",
      "execution_count": 110,
      "metadata": {
        "id": "oS267yOFCM1c",
        "colab": {
          "base_uri": "https://localhost:8080/",
          "height": 206
        },
        "outputId": "b2dd0494-a15d-4d7e-ce76-968d8c4b18c0"
      },
      "outputs": [
        {
          "output_type": "execute_result",
          "data": {
            "text/plain": [
              "   customer  total_items  discount%  weekday  hour  Food%  Fresh%  Drinks%  \\\n",
              "0         0           45      23.03        4    13   9.46   87.06     3.48   \n",
              "1         0           38       1.22        5    13  15.87   75.80     6.22   \n",
              "2         0           51      18.08        4    13  16.88   56.75     3.37   \n",
              "3         1           57      16.51        1    12  28.81   35.99    11.78   \n",
              "4         1           53      18.31        2    11  24.13   60.38     7.78   \n",
              "\n",
              "   Home%  Beauty%  labels  \n",
              "0   0.00     0.00       3  \n",
              "1   2.12     0.00       3  \n",
              "2  16.48     6.53       2  \n",
              "3   4.62     2.87       2  \n",
              "4   7.72     0.00       2  "
            ],
            "text/html": [
              "\n",
              "  <div id=\"df-cd9b2ac1-c0d1-4027-af06-157a91b39747\">\n",
              "    <div class=\"colab-df-container\">\n",
              "      <div>\n",
              "<style scoped>\n",
              "    .dataframe tbody tr th:only-of-type {\n",
              "        vertical-align: middle;\n",
              "    }\n",
              "\n",
              "    .dataframe tbody tr th {\n",
              "        vertical-align: top;\n",
              "    }\n",
              "\n",
              "    .dataframe thead th {\n",
              "        text-align: right;\n",
              "    }\n",
              "</style>\n",
              "<table border=\"1\" class=\"dataframe\">\n",
              "  <thead>\n",
              "    <tr style=\"text-align: right;\">\n",
              "      <th></th>\n",
              "      <th>customer</th>\n",
              "      <th>total_items</th>\n",
              "      <th>discount%</th>\n",
              "      <th>weekday</th>\n",
              "      <th>hour</th>\n",
              "      <th>Food%</th>\n",
              "      <th>Fresh%</th>\n",
              "      <th>Drinks%</th>\n",
              "      <th>Home%</th>\n",
              "      <th>Beauty%</th>\n",
              "      <th>labels</th>\n",
              "    </tr>\n",
              "  </thead>\n",
              "  <tbody>\n",
              "    <tr>\n",
              "      <th>0</th>\n",
              "      <td>0</td>\n",
              "      <td>45</td>\n",
              "      <td>23.03</td>\n",
              "      <td>4</td>\n",
              "      <td>13</td>\n",
              "      <td>9.46</td>\n",
              "      <td>87.06</td>\n",
              "      <td>3.48</td>\n",
              "      <td>0.00</td>\n",
              "      <td>0.00</td>\n",
              "      <td>3</td>\n",
              "    </tr>\n",
              "    <tr>\n",
              "      <th>1</th>\n",
              "      <td>0</td>\n",
              "      <td>38</td>\n",
              "      <td>1.22</td>\n",
              "      <td>5</td>\n",
              "      <td>13</td>\n",
              "      <td>15.87</td>\n",
              "      <td>75.80</td>\n",
              "      <td>6.22</td>\n",
              "      <td>2.12</td>\n",
              "      <td>0.00</td>\n",
              "      <td>3</td>\n",
              "    </tr>\n",
              "    <tr>\n",
              "      <th>2</th>\n",
              "      <td>0</td>\n",
              "      <td>51</td>\n",
              "      <td>18.08</td>\n",
              "      <td>4</td>\n",
              "      <td>13</td>\n",
              "      <td>16.88</td>\n",
              "      <td>56.75</td>\n",
              "      <td>3.37</td>\n",
              "      <td>16.48</td>\n",
              "      <td>6.53</td>\n",
              "      <td>2</td>\n",
              "    </tr>\n",
              "    <tr>\n",
              "      <th>3</th>\n",
              "      <td>1</td>\n",
              "      <td>57</td>\n",
              "      <td>16.51</td>\n",
              "      <td>1</td>\n",
              "      <td>12</td>\n",
              "      <td>28.81</td>\n",
              "      <td>35.99</td>\n",
              "      <td>11.78</td>\n",
              "      <td>4.62</td>\n",
              "      <td>2.87</td>\n",
              "      <td>2</td>\n",
              "    </tr>\n",
              "    <tr>\n",
              "      <th>4</th>\n",
              "      <td>1</td>\n",
              "      <td>53</td>\n",
              "      <td>18.31</td>\n",
              "      <td>2</td>\n",
              "      <td>11</td>\n",
              "      <td>24.13</td>\n",
              "      <td>60.38</td>\n",
              "      <td>7.78</td>\n",
              "      <td>7.72</td>\n",
              "      <td>0.00</td>\n",
              "      <td>2</td>\n",
              "    </tr>\n",
              "  </tbody>\n",
              "</table>\n",
              "</div>\n",
              "      <button class=\"colab-df-convert\" onclick=\"convertToInteractive('df-cd9b2ac1-c0d1-4027-af06-157a91b39747')\"\n",
              "              title=\"Convert this dataframe to an interactive table.\"\n",
              "              style=\"display:none;\">\n",
              "        \n",
              "  <svg xmlns=\"http://www.w3.org/2000/svg\" height=\"24px\"viewBox=\"0 0 24 24\"\n",
              "       width=\"24px\">\n",
              "    <path d=\"M0 0h24v24H0V0z\" fill=\"none\"/>\n",
              "    <path d=\"M18.56 5.44l.94 2.06.94-2.06 2.06-.94-2.06-.94-.94-2.06-.94 2.06-2.06.94zm-11 1L8.5 8.5l.94-2.06 2.06-.94-2.06-.94L8.5 2.5l-.94 2.06-2.06.94zm10 10l.94 2.06.94-2.06 2.06-.94-2.06-.94-.94-2.06-.94 2.06-2.06.94z\"/><path d=\"M17.41 7.96l-1.37-1.37c-.4-.4-.92-.59-1.43-.59-.52 0-1.04.2-1.43.59L10.3 9.45l-7.72 7.72c-.78.78-.78 2.05 0 2.83L4 21.41c.39.39.9.59 1.41.59.51 0 1.02-.2 1.41-.59l7.78-7.78 2.81-2.81c.8-.78.8-2.07 0-2.86zM5.41 20L4 18.59l7.72-7.72 1.47 1.35L5.41 20z\"/>\n",
              "  </svg>\n",
              "      </button>\n",
              "      \n",
              "  <style>\n",
              "    .colab-df-container {\n",
              "      display:flex;\n",
              "      flex-wrap:wrap;\n",
              "      gap: 12px;\n",
              "    }\n",
              "\n",
              "    .colab-df-convert {\n",
              "      background-color: #E8F0FE;\n",
              "      border: none;\n",
              "      border-radius: 50%;\n",
              "      cursor: pointer;\n",
              "      display: none;\n",
              "      fill: #1967D2;\n",
              "      height: 32px;\n",
              "      padding: 0 0 0 0;\n",
              "      width: 32px;\n",
              "    }\n",
              "\n",
              "    .colab-df-convert:hover {\n",
              "      background-color: #E2EBFA;\n",
              "      box-shadow: 0px 1px 2px rgba(60, 64, 67, 0.3), 0px 1px 3px 1px rgba(60, 64, 67, 0.15);\n",
              "      fill: #174EA6;\n",
              "    }\n",
              "\n",
              "    [theme=dark] .colab-df-convert {\n",
              "      background-color: #3B4455;\n",
              "      fill: #D2E3FC;\n",
              "    }\n",
              "\n",
              "    [theme=dark] .colab-df-convert:hover {\n",
              "      background-color: #434B5C;\n",
              "      box-shadow: 0px 1px 3px 1px rgba(0, 0, 0, 0.15);\n",
              "      filter: drop-shadow(0px 1px 2px rgba(0, 0, 0, 0.3));\n",
              "      fill: #FFFFFF;\n",
              "    }\n",
              "  </style>\n",
              "\n",
              "      <script>\n",
              "        const buttonEl =\n",
              "          document.querySelector('#df-cd9b2ac1-c0d1-4027-af06-157a91b39747 button.colab-df-convert');\n",
              "        buttonEl.style.display =\n",
              "          google.colab.kernel.accessAllowed ? 'block' : 'none';\n",
              "\n",
              "        async function convertToInteractive(key) {\n",
              "          const element = document.querySelector('#df-cd9b2ac1-c0d1-4027-af06-157a91b39747');\n",
              "          const dataTable =\n",
              "            await google.colab.kernel.invokeFunction('convertToInteractive',\n",
              "                                                     [key], {});\n",
              "          if (!dataTable) return;\n",
              "\n",
              "          const docLinkHtml = 'Like what you see? Visit the ' +\n",
              "            '<a target=\"_blank\" href=https://colab.research.google.com/notebooks/data_table.ipynb>data table notebook</a>'\n",
              "            + ' to learn more about interactive tables.';\n",
              "          element.innerHTML = '';\n",
              "          dataTable['output_type'] = 'display_data';\n",
              "          await google.colab.output.renderOutput(dataTable, element);\n",
              "          const docLink = document.createElement('div');\n",
              "          docLink.innerHTML = docLinkHtml;\n",
              "          element.appendChild(docLink);\n",
              "        }\n",
              "      </script>\n",
              "    </div>\n",
              "  </div>\n",
              "  "
            ]
          },
          "metadata": {},
          "execution_count": 110
        }
      ],
      "source": [
        "df_labels.head()"
      ]
    },
    {
      "cell_type": "code",
      "source": [
        "sns.barplot(df_labels['labels'],df['total_items']);"
      ],
      "metadata": {
        "colab": {
          "base_uri": "https://localhost:8080/",
          "height": 340
        },
        "id": "nYovx8u0TCFW",
        "outputId": "b5780374-1aa7-4b5b-90ad-6b34eb8b3509"
      },
      "execution_count": 111,
      "outputs": [
        {
          "output_type": "stream",
          "name": "stderr",
          "text": [
            "/usr/local/lib/python3.7/dist-packages/seaborn/_decorators.py:43: FutureWarning: Pass the following variables as keyword args: x, y. From version 0.12, the only valid positional argument will be `data`, and passing other arguments without an explicit keyword will result in an error or misinterpretation.\n",
            "  FutureWarning\n"
          ]
        },
        {
          "output_type": "display_data",
          "data": {
            "text/plain": [
              "<Figure size 432x288 with 1 Axes>"
            ],
            "image/png": "[encoded data removed]"
          },
          "metadata": {}
        }
      ]
    },
    {
      "cell_type": "code",
      "source": [
        "sns.barplot(df_labels['labels'],df['discount%']);"
      ],
      "metadata": {
        "colab": {
          "base_uri": "https://localhost:8080/",
          "height": 340
        },
        "id": "Z9BlEwLUTKQO",
        "outputId": "81e806d1-e451-450e-8606-97125c1f4faa"
      },
      "execution_count": 112,
      "outputs": [
        {
          "output_type": "stream",
          "name": "stderr",
          "text": [
            "/usr/local/lib/python3.7/dist-packages/seaborn/_decorators.py:43: FutureWarning: Pass the following variables as keyword args: x, y. From version 0.12, the only valid positional argument will be `data`, and passing other arguments without an explicit keyword will result in an error or misinterpretation.\n",
            "  FutureWarning\n"
          ]
        },
        {
          "output_type": "display_data",
          "data": {
            "text/plain": [
              "<Figure size 432x288 with 1 Axes>"
            ],
            "image/png": "[encoded data removed]"
          },
          "metadata": {}
        }
      ]
    },
    {
      "cell_type": "code",
      "source": [
        "sns.barplot(df_labels['labels'],df['Food%']);\n"
      ],
      "metadata": {
        "colab": {
          "base_uri": "https://localhost:8080/",
          "height": 343
        },
        "id": "ua-LBrWWSbYU",
        "outputId": "56afb228-fab2-4cf1-99f5-d0d5d4779078"
      },
      "execution_count": 114,
      "outputs": [
        {
          "output_type": "stream",
          "name": "stderr",
          "text": [
            "/usr/local/lib/python3.7/dist-packages/seaborn/_decorators.py:43: FutureWarning: Pass the following variables as keyword args: x, y. From version 0.12, the only valid positional argument will be `data`, and passing other arguments without an explicit keyword will result in an error or misinterpretation.\n",
            "  FutureWarning\n"
          ]
        },
        {
          "output_type": "display_data",
          "data": {
            "text/plain": [
              "<Figure size 432x288 with 1 Axes>"
            ],
            "image/png": "[encoded data removed]"
          },
          "metadata": {}
        }
      ]
    },
    {
      "cell_type": "code",
      "source": [
        "sns.barplot(df_labels['labels'],df['Fresh%']);\n"
      ],
      "metadata": {
        "colab": {
          "base_uri": "https://localhost:8080/",
          "height": 340
        },
        "id": "zYcldkmlSdzM",
        "outputId": "e24f5e62-a3d9-4030-ac77-704fb0c2f942"
      },
      "execution_count": 115,
      "outputs": [
        {
          "output_type": "stream",
          "name": "stderr",
          "text": [
            "/usr/local/lib/python3.7/dist-packages/seaborn/_decorators.py:43: FutureWarning: Pass the following variables as keyword args: x, y. From version 0.12, the only valid positional argument will be `data`, and passing other arguments without an explicit keyword will result in an error or misinterpretation.\n",
            "  FutureWarning\n"
          ]
        },
        {
          "output_type": "display_data",
          "data": {
            "text/plain": [
              "<Figure size 432x288 with 1 Axes>"
            ],
            "image/png": "[encoded data removed]"
          },
          "metadata": {}
        }
      ]
    },
    {
      "cell_type": "code",
      "source": [
        "sns.barplot(df_labels['labels'],df['Drinks%']);"
      ],
      "metadata": {
        "colab": {
          "base_uri": "https://localhost:8080/",
          "height": 340
        },
        "id": "PXVL2C5TSidc",
        "outputId": "ffce68de-06fe-4360-9827-a2f4908620ea"
      },
      "execution_count": 116,
      "outputs": [
        {
          "output_type": "stream",
          "name": "stderr",
          "text": [
            "/usr/local/lib/python3.7/dist-packages/seaborn/_decorators.py:43: FutureWarning: Pass the following variables as keyword args: x, y. From version 0.12, the only valid positional argument will be `data`, and passing other arguments without an explicit keyword will result in an error or misinterpretation.\n",
            "  FutureWarning\n"
          ]
        },
        {
          "output_type": "display_data",
          "data": {
            "text/plain": [
              "<Figure size 432x288 with 1 Axes>"
            ],
            "image/png": "[encoded data removed]"
          },
          "metadata": {}
        }
      ]
    },
    {
      "cell_type": "code",
      "source": [
        "sns.countplot(data=df_labels,x='labels')"
      ],
      "metadata": {
        "colab": {
          "base_uri": "https://localhost:8080/",
          "height": 302
        },
        "id": "9PwmqVmWP7Bw",
        "outputId": "1f959554-c987-45b7-cf49-413b82e93a1d"
      },
      "execution_count": 117,
      "outputs": [
        {
          "output_type": "execute_result",
          "data": {
            "text/plain": [
              "<matplotlib.axes._subplots.AxesSubplot at 0x7f9025df0f10>"
            ]
          },
          "metadata": {},
          "execution_count": 117
        },
        {
          "output_type": "display_data",
          "data": {
            "text/plain": [
              "<Figure size 432x288 with 1 Axes>"
            ],
            "image/png": "[encoded data removed]"
          },
          "metadata": {}
        }
      ]
    },
    {
      "cell_type": "code",
      "source": [
        "sns.boxplot(data=df_labels,x='labels',y='weekday');"
      ],
      "metadata": {
        "id": "DwImafuScWgs",
        "colab": {
          "base_uri": "https://localhost:8080/",
          "height": 285
        },
        "outputId": "7e271d4a-cbbf-4c7c-e2a0-d69db2f80907"
      },
      "execution_count": 118,
      "outputs": [
        {
          "output_type": "display_data",
          "data": {
            "text/plain": [
              "<Figure size 432x288 with 1 Axes>"
            ],
            "image/png": "[encoded data removed]"
          },
          "metadata": {}
        }
      ]
    },
    {
      "cell_type": "code",
      "source": [
        "sns.boxplot(data=df_labels,x='labels',y='discount%',showfliers=False);"
      ],
      "metadata": {
        "id": "psC9NoWyct-D",
        "colab": {
          "base_uri": "https://localhost:8080/",
          "height": 285
        },
        "outputId": "fdfa06fe-7075-4d3a-8aa0-0567bc7d3cc6"
      },
      "execution_count": 119,
      "outputs": [
        {
          "output_type": "display_data",
          "data": {
            "text/plain": [
              "<Figure size 432x288 with 1 Axes>"
            ],
            "image/png": "[encoded data removed]"
          },
          "metadata": {}
        }
      ]
    },
    {
      "cell_type": "code",
      "source": [
        "sns.countplot(x=df_labels['hour'])"
      ],
      "metadata": {
        "id": "o7nFmwWYL73f",
        "colab": {
          "base_uri": "https://localhost:8080/",
          "height": 302
        },
        "outputId": "27577c0c-9a15-44ea-9549-99581c1eef4f"
      },
      "execution_count": 120,
      "outputs": [
        {
          "output_type": "execute_result",
          "data": {
            "text/plain": [
              "<matplotlib.axes._subplots.AxesSubplot at 0x7f9025686110>"
            ]
          },
          "metadata": {},
          "execution_count": 120
        },
        {
          "output_type": "display_data",
          "data": {
            "text/plain": [
              "<Figure size 432x288 with 1 Axes>"
            ],
            "image/png": "[encoded data removed]"
          },
          "metadata": {}
        }
      ]
    },
    {
      "cell_type": "code",
      "source": [
        "labeled=df_labels.to_csv('customer_data_with_labels.csv',index=False)"
      ],
      "metadata": {
        "id": "l7O1GKV_E5Rl"
      },
      "execution_count": 130,
      "outputs": []
    },
    {
      "cell_type": "code",
      "source": [
        "label = pd.DataFrame(kmeans.labels_) #This is where the label output of the KMeans we just ran lives. Make it a dataframe so we can concatenate back to the original data\n",
        "df_pca = pd.concat((df_scaled,labels),axis=1)\n",
        "df_pca= df_pca.rename({0:'labels'},axis=1)"
      ],
      "metadata": {
        "id": "prLvdxDaZ3vh"
      },
      "execution_count": 121,
      "outputs": []
    },
    {
      "cell_type": "code",
      "source": [
        "from sklearn.decomposition import PCA\n",
        "pca = PCA(n_components=3)\n",
        "principalComponents = pca.fit_transform(df_pca)\n",
        "principalDf = pd.DataFrame(data = principalComponents\n",
        "             , columns = ['col1', 'col2','col3'])"
      ],
      "metadata": {
        "id": "0JqvPGAJR9wL"
      },
      "execution_count": 122,
      "outputs": []
    },
    {
      "cell_type": "code",
      "source": [
        "principalDf.head()"
      ],
      "metadata": {
        "id": "hD512JYFZr30",
        "colab": {
          "base_uri": "https://localhost:8080/",
          "height": 206
        },
        "outputId": "d2688598-d8e4-416f-d6a4-9289702c9598"
      },
      "execution_count": 123,
      "outputs": [
        {
          "output_type": "execute_result",
          "data": {
            "text/plain": [
              "       col1      col2      col3\n",
              "0 -0.762019 -0.381829 -0.260499\n",
              "1 -0.781665 -0.192026 -0.270252\n",
              "2  0.236192 -0.169963 -0.347420\n",
              "3  0.339630 -0.474652 -0.463674\n",
              "4  0.295001 -0.451771 -0.379945"
            ],
            "text/html": [
              "\n",
              "  <div id=\"df-986c100b-fe2f-4f2b-b0e3-9e8f905eaa7e\">\n",
              "    <div class=\"colab-df-container\">\n",
              "      <div>\n",
              "<style scoped>\n",
              "    .dataframe tbody tr th:only-of-type {\n",
              "        vertical-align: middle;\n",
              "    }\n",
              "\n",
              "    .dataframe tbody tr th {\n",
              "        vertical-align: top;\n",
              "    }\n",
              "\n",
              "    .dataframe thead th {\n",
              "        text-align: right;\n",
              "    }\n",
              "</style>\n",
              "<table border=\"1\" class=\"dataframe\">\n",
              "  <thead>\n",
              "    <tr style=\"text-align: right;\">\n",
              "      <th></th>\n",
              "      <th>col1</th>\n",
              "      <th>col2</th>\n",
              "      <th>col3</th>\n",
              "    </tr>\n",
              "  </thead>\n",
              "  <tbody>\n",
              "    <tr>\n",
              "      <th>0</th>\n",
              "      <td>-0.762019</td>\n",
              "      <td>-0.381829</td>\n",
              "      <td>-0.260499</td>\n",
              "    </tr>\n",
              "    <tr>\n",
              "      <th>1</th>\n",
              "      <td>-0.781665</td>\n",
              "      <td>-0.192026</td>\n",
              "      <td>-0.270252</td>\n",
              "    </tr>\n",
              "    <tr>\n",
              "      <th>2</th>\n",
              "      <td>0.236192</td>\n",
              "      <td>-0.169963</td>\n",
              "      <td>-0.347420</td>\n",
              "    </tr>\n",
              "    <tr>\n",
              "      <th>3</th>\n",
              "      <td>0.339630</td>\n",
              "      <td>-0.474652</td>\n",
              "      <td>-0.463674</td>\n",
              "    </tr>\n",
              "    <tr>\n",
              "      <th>4</th>\n",
              "      <td>0.295001</td>\n",
              "      <td>-0.451771</td>\n",
              "      <td>-0.379945</td>\n",
              "    </tr>\n",
              "  </tbody>\n",
              "</table>\n",
              "</div>\n",
              "      <button class=\"colab-df-convert\" onclick=\"convertToInteractive('df-986c100b-fe2f-4f2b-b0e3-9e8f905eaa7e')\"\n",
              "              title=\"Convert this dataframe to an interactive table.\"\n",
              "              style=\"display:none;\">\n",
              "        \n",
              "  <svg xmlns=\"http://www.w3.org/2000/svg\" height=\"24px\"viewBox=\"0 0 24 24\"\n",
              "       width=\"24px\">\n",
              "    <path d=\"M0 0h24v24H0V0z\" fill=\"none\"/>\n",
              "    <path d=\"M18.56 5.44l.94 2.06.94-2.06 2.06-.94-2.06-.94-.94-2.06-.94 2.06-2.06.94zm-11 1L8.5 8.5l.94-2.06 2.06-.94-2.06-.94L8.5 2.5l-.94 2.06-2.06.94zm10 10l.94 2.06.94-2.06 2.06-.94-2.06-.94-.94-2.06-.94 2.06-2.06.94z\"/><path d=\"M17.41 7.96l-1.37-1.37c-.4-.4-.92-.59-1.43-.59-.52 0-1.04.2-1.43.59L10.3 9.45l-7.72 7.72c-.78.78-.78 2.05 0 2.83L4 21.41c.39.39.9.59 1.41.59.51 0 1.02-.2 1.41-.59l7.78-7.78 2.81-2.81c.8-.78.8-2.07 0-2.86zM5.41 20L4 18.59l7.72-7.72 1.47 1.35L5.41 20z\"/>\n",
              "  </svg>\n",
              "      </button>\n",
              "      \n",
              "  <style>\n",
              "    .colab-df-container {\n",
              "      display:flex;\n",
              "      flex-wrap:wrap;\n",
              "      gap: 12px;\n",
              "    }\n",
              "\n",
              "    .colab-df-convert {\n",
              "      background-color: #E8F0FE;\n",
              "      border: none;\n",
              "      border-radius: 50%;\n",
              "      cursor: pointer;\n",
              "      display: none;\n",
              "      fill: #1967D2;\n",
              "      height: 32px;\n",
              "      padding: 0 0 0 0;\n",
              "      width: 32px;\n",
              "    }\n",
              "\n",
              "    .colab-df-convert:hover {\n",
              "      background-color: #E2EBFA;\n",
              "      box-shadow: 0px 1px 2px rgba(60, 64, 67, 0.3), 0px 1px 3px 1px rgba(60, 64, 67, 0.15);\n",
              "      fill: #174EA6;\n",
              "    }\n",
              "\n",
              "    [theme=dark] .colab-df-convert {\n",
              "      background-color: #3B4455;\n",
              "      fill: #D2E3FC;\n",
              "    }\n",
              "\n",
              "    [theme=dark] .colab-df-convert:hover {\n",
              "      background-color: #434B5C;\n",
              "      box-shadow: 0px 1px 3px 1px rgba(0, 0, 0, 0.15);\n",
              "      filter: drop-shadow(0px 1px 2px rgba(0, 0, 0, 0.3));\n",
              "      fill: #FFFFFF;\n",
              "    }\n",
              "  </style>\n",
              "\n",
              "      <script>\n",
              "        const buttonEl =\n",
              "          document.querySelector('#df-986c100b-fe2f-4f2b-b0e3-9e8f905eaa7e button.colab-df-convert');\n",
              "        buttonEl.style.display =\n",
              "          google.colab.kernel.accessAllowed ? 'block' : 'none';\n",
              "\n",
              "        async function convertToInteractive(key) {\n",
              "          const element = document.querySelector('#df-986c100b-fe2f-4f2b-b0e3-9e8f905eaa7e');\n",
              "          const dataTable =\n",
              "            await google.colab.kernel.invokeFunction('convertToInteractive',\n",
              "                                                     [key], {});\n",
              "          if (!dataTable) return;\n",
              "\n",
              "          const docLinkHtml = 'Like what you see? Visit the ' +\n",
              "            '<a target=\"_blank\" href=https://colab.research.google.com/notebooks/data_table.ipynb>data table notebook</a>'\n",
              "            + ' to learn more about interactive tables.';\n",
              "          element.innerHTML = '';\n",
              "          dataTable['output_type'] = 'display_data';\n",
              "          await google.colab.output.renderOutput(dataTable, element);\n",
              "          const docLink = document.createElement('div');\n",
              "          docLink.innerHTML = docLinkHtml;\n",
              "          element.appendChild(docLink);\n",
              "        }\n",
              "      </script>\n",
              "    </div>\n",
              "  </div>\n",
              "  "
            ]
          },
          "metadata": {},
          "execution_count": 123
        }
      ]
    },
    {
      "cell_type": "code",
      "source": [
        "finalDf = pd.concat([principalDf, df_labels[['labels']]], axis = 1)\n",
        "finalDf.head()"
      ],
      "metadata": {
        "id": "a5u0yuQlZuuX",
        "colab": {
          "base_uri": "https://localhost:8080/",
          "height": 206
        },
        "outputId": "49153c6c-d669-47f7-d7b4-fd3fe1a1fc6b"
      },
      "execution_count": 124,
      "outputs": [
        {
          "output_type": "execute_result",
          "data": {
            "text/plain": [
              "       col1      col2      col3  labels\n",
              "0 -0.762019 -0.381829 -0.260499       3\n",
              "1 -0.781665 -0.192026 -0.270252       3\n",
              "2  0.236192 -0.169963 -0.347420       2\n",
              "3  0.339630 -0.474652 -0.463674       2\n",
              "4  0.295001 -0.451771 -0.379945       2"
            ],
            "text/html": [
              "\n",
              "  <div id=\"df-dacfa454-7de2-4415-9d02-b6bb39ef2b2e\">\n",
              "    <div class=\"colab-df-container\">\n",
              "      <div>\n",
              "<style scoped>\n",
              "    .dataframe tbody tr th:only-of-type {\n",
              "        vertical-align: middle;\n",
              "    }\n",
              "\n",
              "    .dataframe tbody tr th {\n",
              "        vertical-align: top;\n",
              "    }\n",
              "\n",
              "    .dataframe thead th {\n",
              "        text-align: right;\n",
              "    }\n",
              "</style>\n",
              "<table border=\"1\" class=\"dataframe\">\n",
              "  <thead>\n",
              "    <tr style=\"text-align: right;\">\n",
              "      <th></th>\n",
              "      <th>col1</th>\n",
              "      <th>col2</th>\n",
              "      <th>col3</th>\n",
              "      <th>labels</th>\n",
              "    </tr>\n",
              "  </thead>\n",
              "  <tbody>\n",
              "    <tr>\n",
              "      <th>0</th>\n",
              "      <td>-0.762019</td>\n",
              "      <td>-0.381829</td>\n",
              "      <td>-0.260499</td>\n",
              "      <td>3</td>\n",
              "    </tr>\n",
              "    <tr>\n",
              "      <th>1</th>\n",
              "      <td>-0.781665</td>\n",
              "      <td>-0.192026</td>\n",
              "      <td>-0.270252</td>\n",
              "      <td>3</td>\n",
              "    </tr>\n",
              "    <tr>\n",
              "      <th>2</th>\n",
              "      <td>0.236192</td>\n",
              "      <td>-0.169963</td>\n",
              "      <td>-0.347420</td>\n",
              "      <td>2</td>\n",
              "    </tr>\n",
              "    <tr>\n",
              "      <th>3</th>\n",
              "      <td>0.339630</td>\n",
              "      <td>-0.474652</td>\n",
              "      <td>-0.463674</td>\n",
              "      <td>2</td>\n",
              "    </tr>\n",
              "    <tr>\n",
              "      <th>4</th>\n",
              "      <td>0.295001</td>\n",
              "      <td>-0.451771</td>\n",
              "      <td>-0.379945</td>\n",
              "      <td>2</td>\n",
              "    </tr>\n",
              "  </tbody>\n",
              "</table>\n",
              "</div>\n",
              "      <button class=\"colab-df-convert\" onclick=\"convertToInteractive('df-dacfa454-7de2-4415-9d02-b6bb39ef2b2e')\"\n",
              "              title=\"Convert this dataframe to an interactive table.\"\n",
              "              style=\"display:none;\">\n",
              "        \n",
              "  <svg xmlns=\"http://www.w3.org/2000/svg\" height=\"24px\"viewBox=\"0 0 24 24\"\n",
              "       width=\"24px\">\n",
              "    <path d=\"M0 0h24v24H0V0z\" fill=\"none\"/>\n",
              "    <path d=\"M18.56 5.44l.94 2.06.94-2.06 2.06-.94-2.06-.94-.94-2.06-.94 2.06-2.06.94zm-11 1L8.5 8.5l.94-2.06 2.06-.94-2.06-.94L8.5 2.5l-.94 2.06-2.06.94zm10 10l.94 2.06.94-2.06 2.06-.94-2.06-.94-.94-2.06-.94 2.06-2.06.94z\"/><path d=\"M17.41 7.96l-1.37-1.37c-.4-.4-.92-.59-1.43-.59-.52 0-1.04.2-1.43.59L10.3 9.45l-7.72 7.72c-.78.78-.78 2.05 0 2.83L4 21.41c.39.39.9.59 1.41.59.51 0 1.02-.2 1.41-.59l7.78-7.78 2.81-2.81c.8-.78.8-2.07 0-2.86zM5.41 20L4 18.59l7.72-7.72 1.47 1.35L5.41 20z\"/>\n",
              "  </svg>\n",
              "      </button>\n",
              "      \n",
              "  <style>\n",
              "    .colab-df-container {\n",
              "      display:flex;\n",
              "      flex-wrap:wrap;\n",
              "      gap: 12px;\n",
              "    }\n",
              "\n",
              "    .colab-df-convert {\n",
              "      background-color: #E8F0FE;\n",
              "      border: none;\n",
              "      border-radius: 50%;\n",
              "      cursor: pointer;\n",
              "      display: none;\n",
              "      fill: #1967D2;\n",
              "      height: 32px;\n",
              "      padding: 0 0 0 0;\n",
              "      width: 32px;\n",
              "    }\n",
              "\n",
              "    .colab-df-convert:hover {\n",
              "      background-color: #E2EBFA;\n",
              "      box-shadow: 0px 1px 2px rgba(60, 64, 67, 0.3), 0px 1px 3px 1px rgba(60, 64, 67, 0.15);\n",
              "      fill: #174EA6;\n",
              "    }\n",
              "\n",
              "    [theme=dark] .colab-df-convert {\n",
              "      background-color: #3B4455;\n",
              "      fill: #D2E3FC;\n",
              "    }\n",
              "\n",
              "    [theme=dark] .colab-df-convert:hover {\n",
              "      background-color: #434B5C;\n",
              "      box-shadow: 0px 1px 3px 1px rgba(0, 0, 0, 0.15);\n",
              "      filter: drop-shadow(0px 1px 2px rgba(0, 0, 0, 0.3));\n",
              "      fill: #FFFFFF;\n",
              "    }\n",
              "  </style>\n",
              "\n",
              "      <script>\n",
              "        const buttonEl =\n",
              "          document.querySelector('#df-dacfa454-7de2-4415-9d02-b6bb39ef2b2e button.colab-df-convert');\n",
              "        buttonEl.style.display =\n",
              "          google.colab.kernel.accessAllowed ? 'block' : 'none';\n",
              "\n",
              "        async function convertToInteractive(key) {\n",
              "          const element = document.querySelector('#df-dacfa454-7de2-4415-9d02-b6bb39ef2b2e');\n",
              "          const dataTable =\n",
              "            await google.colab.kernel.invokeFunction('convertToInteractive',\n",
              "                                                     [key], {});\n",
              "          if (!dataTable) return;\n",
              "\n",
              "          const docLinkHtml = 'Like what you see? Visit the ' +\n",
              "            '<a target=\"_blank\" href=https://colab.research.google.com/notebooks/data_table.ipynb>data table notebook</a>'\n",
              "            + ' to learn more about interactive tables.';\n",
              "          element.innerHTML = '';\n",
              "          dataTable['output_type'] = 'display_data';\n",
              "          await google.colab.output.renderOutput(dataTable, element);\n",
              "          const docLink = document.createElement('div');\n",
              "          docLink.innerHTML = docLinkHtml;\n",
              "          element.appendChild(docLink);\n",
              "        }\n",
              "      </script>\n",
              "    </div>\n",
              "  </div>\n",
              "  "
            ]
          },
          "metadata": {},
          "execution_count": 124
        }
      ]
    },
    {
      "cell_type": "code",
      "source": [
        "sns.scatterplot(x='col2',y='col3',data=finalDf,hue='labels',palette='bright',edgecolor='none')"
      ],
      "metadata": {
        "id": "kJng6ZLNaR2a",
        "colab": {
          "base_uri": "https://localhost:8080/",
          "height": 302
        },
        "outputId": "af1fd4d4-4c86-4641-8e2d-2a31fdf0b789"
      },
      "execution_count": 129,
      "outputs": [
        {
          "output_type": "execute_result",
          "data": {
            "text/plain": [
              "<matplotlib.axes._subplots.AxesSubplot at 0x7f9024eaaa50>"
            ]
          },
          "metadata": {},
          "execution_count": 129
        },
        {
          "output_type": "display_data",
          "data": {
            "text/plain": [
              "<Figure size 432x288 with 1 Axes>"
            ],
            "image/png": "[encoded data removed]"
          },
          "metadata": {}
        }
      ]
    },
    {
      "cell_type": "code",
      "source": [
        "ax = plt.axes(projection='3d')\n",
        "ax.scatter(finalDf['col1'], finalDf['col2'], finalDf['col3'],c=finalDf['labels'] ,cmap='viridis',linewidth=0.5);"
      ],
      "metadata": {
        "colab": {
          "base_uri": "https://localhost:8080/",
          "height": 248
        },
        "id": "wNzk1KSrRGw5",
        "outputId": "f7bcdb58-ac87-4fe9-fd71-cf2a736b464b"
      },
      "execution_count": 126,
      "outputs": [
        {
          "output_type": "display_data",
          "data": {
            "text/plain": [
              "<Figure size 432x288 with 1 Axes>"
            ],
            "image/png": "[encoded data removed]"
          },
          "metadata": {}
        }
      ]
    },
    {
      "cell_type": "code",
      "source": [
        "df_corr=df.corr()"
      ],
      "metadata": {
        "id": "3bW3rGEdafnu"
      },
      "execution_count": null,
      "outputs": []
    },
    {
      "cell_type": "code",
      "source": [
        "sns.heatmap(df_corr,annot=False)"
      ],
      "metadata": {
        "id": "3oYByugubyM-"
      },
      "execution_count": null,
      "outputs": []
    },
    {
      "cell_type": "code",
      "source": [
        ""
      ],
      "metadata": {
        "id": "CiZSdU0Eb1XP"
      },
      "execution_count": null,
      "outputs": []
    }
  ],
  "metadata": {
    "colab": {
      "collapsed_sections": [],
      "name": "Copy of Copy of Untitled9.ipynb",
      "provenance": [],
      "mount_file_id": "1459Dn444YlD3qhcIokGJSgR_Ay20brSb",
      "authorship_tag": "ABX9TyMPO0kd8FCGGF8ezXNqJVT6",
      "include_colab_link": true
    },
    "kernelspec": {
      "display_name": "Python 3",
      "name": "python3"
    },
    "language_info": {
      "name": "python"
    },
    "accelerator": "GPU",
    "gpuClass": "standard"
  },
  "nbformat": 4,
  "nbformat_minor": 0
}