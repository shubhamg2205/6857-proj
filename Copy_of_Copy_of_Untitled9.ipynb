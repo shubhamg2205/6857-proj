{
  "cells": [
    {
      "cell_type": "markdown",
      "metadata": {
        "id": "view-in-github",
        "colab_type": "text"
      },
      "source": [
        "<a href=\"https://colab.research.google.com/github/shubhamg2205/6857-proj/blob/main/Copy_of_Copy_of_Untitled9.ipynb\" target=\"_parent\"><img src=\"https://colab.research.google.com/assets/colab-badge.svg\" alt=\"Open In Colab\"/></a>"
      ]
    },
    {
      "cell_type": "code",
      "execution_count": 1,
      "metadata": {
        "id": "BcyNeRXlS_It"
      },
      "outputs": [],
      "source": [
        "import numpy as np\n",
        "import pandas as pd\n",
        "import seaborn as sns\n",
        "from matplotlib import pyplot as plt\n",
        "from sklearn.cluster import KMeans\n",
        "import sklearn.preprocessing\n"
      ]
    },
    {
      "cell_type": "code",
      "execution_count": 5,
      "metadata": {
        "colab": {
          "base_uri": "https://localhost:8080/",
          "height": 206
        },
        "id": "T0YpnvVTXWBv",
        "outputId": "0abf2e29-68f1-4041-bf4a-7c3b7b177b09"
      },
      "outputs": [
        {
          "output_type": "execute_result",
          "data": {
            "text/plain": [
              "   customer  order  total_items  discount%  weekday  hour  Food%  Fresh%  \\\n",
              "0         0      0           45      23.03        4    13   9.46   87.06   \n",
              "1         0      1           38       1.22        5    13  15.87   75.80   \n",
              "2         0      2           51      18.08        4    13  16.88   56.75   \n",
              "3         1      3           57      16.51        1    12  28.81   35.99   \n",
              "4         1      4           53      18.31        2    11  24.13   60.38   \n",
              "\n",
              "   Drinks%  Home%  Beauty%  Health%  Baby%  Pets%  \n",
              "0     3.48   0.00     0.00     0.00    0.0    0.0  \n",
              "1     6.22   2.12     0.00     0.00    0.0    0.0  \n",
              "2     3.37  16.48     6.53     0.00    0.0    0.0  \n",
              "3    11.78   4.62     2.87    15.92    0.0    0.0  \n",
              "4     7.78   7.72     0.00     0.00    0.0    0.0  "
            ],
            "text/html": [
              "\n",
              "  <div id=\"df-9aa95ae2-01d5-4962-87b6-cf4e50c55ea4\">\n",
              "    <div class=\"colab-df-container\">\n",
              "      <div>\n",
              "<style scoped>\n",
              "    .dataframe tbody tr th:only-of-type {\n",
              "        vertical-align: middle;\n",
              "    }\n",
              "\n",
              "    .dataframe tbody tr th {\n",
              "        vertical-align: top;\n",
              "    }\n",
              "\n",
              "    .dataframe thead th {\n",
              "        text-align: right;\n",
              "    }\n",
              "</style>\n",
              "<table border=\"1\" class=\"dataframe\">\n",
              "  <thead>\n",
              "    <tr style=\"text-align: right;\">\n",
              "      <th></th>\n",
              "      <th>customer</th>\n",
              "      <th>order</th>\n",
              "      <th>total_items</th>\n",
              "      <th>discount%</th>\n",
              "      <th>weekday</th>\n",
              "      <th>hour</th>\n",
              "      <th>Food%</th>\n",
              "      <th>Fresh%</th>\n",
              "      <th>Drinks%</th>\n",
              "      <th>Home%</th>\n",
              "      <th>Beauty%</th>\n",
              "      <th>Health%</th>\n",
              "      <th>Baby%</th>\n",
              "      <th>Pets%</th>\n",
              "    </tr>\n",
              "  </thead>\n",
              "  <tbody>\n",
              "    <tr>\n",
              "      <th>0</th>\n",
              "      <td>0</td>\n",
              "      <td>0</td>\n",
              "      <td>45</td>\n",
              "      <td>23.03</td>\n",
              "      <td>4</td>\n",
              "      <td>13</td>\n",
              "      <td>9.46</td>\n",
              "      <td>87.06</td>\n",
              "      <td>3.48</td>\n",
              "      <td>0.00</td>\n",
              "      <td>0.00</td>\n",
              "      <td>0.00</td>\n",
              "      <td>0.0</td>\n",
              "      <td>0.0</td>\n",
              "    </tr>\n",
              "    <tr>\n",
              "      <th>1</th>\n",
              "      <td>0</td>\n",
              "      <td>1</td>\n",
              "      <td>38</td>\n",
              "      <td>1.22</td>\n",
              "      <td>5</td>\n",
              "      <td>13</td>\n",
              "      <td>15.87</td>\n",
              "      <td>75.80</td>\n",
              "      <td>6.22</td>\n",
              "      <td>2.12</td>\n",
              "      <td>0.00</td>\n",
              "      <td>0.00</td>\n",
              "      <td>0.0</td>\n",
              "      <td>0.0</td>\n",
              "    </tr>\n",
              "    <tr>\n",
              "      <th>2</th>\n",
              "      <td>0</td>\n",
              "      <td>2</td>\n",
              "      <td>51</td>\n",
              "      <td>18.08</td>\n",
              "      <td>4</td>\n",
              "      <td>13</td>\n",
              "      <td>16.88</td>\n",
              "      <td>56.75</td>\n",
              "      <td>3.37</td>\n",
              "      <td>16.48</td>\n",
              "      <td>6.53</td>\n",
              "      <td>0.00</td>\n",
              "      <td>0.0</td>\n",
              "      <td>0.0</td>\n",
              "    </tr>\n",
              "    <tr>\n",
              "      <th>3</th>\n",
              "      <td>1</td>\n",
              "      <td>3</td>\n",
              "      <td>57</td>\n",
              "      <td>16.51</td>\n",
              "      <td>1</td>\n",
              "      <td>12</td>\n",
              "      <td>28.81</td>\n",
              "      <td>35.99</td>\n",
              "      <td>11.78</td>\n",
              "      <td>4.62</td>\n",
              "      <td>2.87</td>\n",
              "      <td>15.92</td>\n",
              "      <td>0.0</td>\n",
              "      <td>0.0</td>\n",
              "    </tr>\n",
              "    <tr>\n",
              "      <th>4</th>\n",
              "      <td>1</td>\n",
              "      <td>4</td>\n",
              "      <td>53</td>\n",
              "      <td>18.31</td>\n",
              "      <td>2</td>\n",
              "      <td>11</td>\n",
              "      <td>24.13</td>\n",
              "      <td>60.38</td>\n",
              "      <td>7.78</td>\n",
              "      <td>7.72</td>\n",
              "      <td>0.00</td>\n",
              "      <td>0.00</td>\n",
              "      <td>0.0</td>\n",
              "      <td>0.0</td>\n",
              "    </tr>\n",
              "  </tbody>\n",
              "</table>\n",
              "</div>\n",
              "      <button class=\"colab-df-convert\" onclick=\"convertToInteractive('df-9aa95ae2-01d5-4962-87b6-cf4e50c55ea4')\"\n",
              "              title=\"Convert this dataframe to an interactive table.\"\n",
              "              style=\"display:none;\">\n",
              "        \n",
              "  <svg xmlns=\"http://www.w3.org/2000/svg\" height=\"24px\"viewBox=\"0 0 24 24\"\n",
              "       width=\"24px\">\n",
              "    <path d=\"M0 0h24v24H0V0z\" fill=\"none\"/>\n",
              "    <path d=\"M18.56 5.44l.94 2.06.94-2.06 2.06-.94-2.06-.94-.94-2.06-.94 2.06-2.06.94zm-11 1L8.5 8.5l.94-2.06 2.06-.94-2.06-.94L8.5 2.5l-.94 2.06-2.06.94zm10 10l.94 2.06.94-2.06 2.06-.94-2.06-.94-.94-2.06-.94 2.06-2.06.94z\"/><path d=\"M17.41 7.96l-1.37-1.37c-.4-.4-.92-.59-1.43-.59-.52 0-1.04.2-1.43.59L10.3 9.45l-7.72 7.72c-.78.78-.78 2.05 0 2.83L4 21.41c.39.39.9.59 1.41.59.51 0 1.02-.2 1.41-.59l7.78-7.78 2.81-2.81c.8-.78.8-2.07 0-2.86zM5.41 20L4 18.59l7.72-7.72 1.47 1.35L5.41 20z\"/>\n",
              "  </svg>\n",
              "      </button>\n",
              "      \n",
              "  <style>\n",
              "    .colab-df-container {\n",
              "      display:flex;\n",
              "      flex-wrap:wrap;\n",
              "      gap: 12px;\n",
              "    }\n",
              "\n",
              "    .colab-df-convert {\n",
              "      background-color: #E8F0FE;\n",
              "      border: none;\n",
              "      border-radius: 50%;\n",
              "      cursor: pointer;\n",
              "      display: none;\n",
              "      fill: #1967D2;\n",
              "      height: 32px;\n",
              "      padding: 0 0 0 0;\n",
              "      width: 32px;\n",
              "    }\n",
              "\n",
              "    .colab-df-convert:hover {\n",
              "      background-color: #E2EBFA;\n",
              "      box-shadow: 0px 1px 2px rgba(60, 64, 67, 0.3), 0px 1px 3px 1px rgba(60, 64, 67, 0.15);\n",
              "      fill: #174EA6;\n",
              "    }\n",
              "\n",
              "    [theme=dark] .colab-df-convert {\n",
              "      background-color: #3B4455;\n",
              "      fill: #D2E3FC;\n",
              "    }\n",
              "\n",
              "    [theme=dark] .colab-df-convert:hover {\n",
              "      background-color: #434B5C;\n",
              "      box-shadow: 0px 1px 3px 1px rgba(0, 0, 0, 0.15);\n",
              "      filter: drop-shadow(0px 1px 2px rgba(0, 0, 0, 0.3));\n",
              "      fill: #FFFFFF;\n",
              "    }\n",
              "  </style>\n",
              "\n",
              "      <script>\n",
              "        const buttonEl =\n",
              "          document.querySelector('#df-9aa95ae2-01d5-4962-87b6-cf4e50c55ea4 button.colab-df-convert');\n",
              "        buttonEl.style.display =\n",
              "          google.colab.kernel.accessAllowed ? 'block' : 'none';\n",
              "\n",
              "        async function convertToInteractive(key) {\n",
              "          const element = document.querySelector('#df-9aa95ae2-01d5-4962-87b6-cf4e50c55ea4');\n",
              "          const dataTable =\n",
              "            await google.colab.kernel.invokeFunction('convertToInteractive',\n",
              "                                                     [key], {});\n",
              "          if (!dataTable) return;\n",
              "\n",
              "          const docLinkHtml = 'Like what you see? Visit the ' +\n",
              "            '<a target=\"_blank\" href=https://colab.research.google.com/notebooks/data_table.ipynb>data table notebook</a>'\n",
              "            + ' to learn more about interactive tables.';\n",
              "          element.innerHTML = '';\n",
              "          dataTable['output_type'] = 'display_data';\n",
              "          await google.colab.output.renderOutput(dataTable, element);\n",
              "          const docLink = document.createElement('div');\n",
              "          docLink.innerHTML = docLinkHtml;\n",
              "          element.appendChild(docLink);\n",
              "        }\n",
              "      </script>\n",
              "    </div>\n",
              "  </div>\n",
              "  "
            ]
          },
          "metadata": {},
          "execution_count": 5
        }
      ],
      "source": [
        "df=pd.read_csv('/content/drive/MyDrive/CustomerData_project_genpact/orders_categories_time.csv')\n",
        "df.head()"
      ]
    },
    {
      "cell_type": "code",
      "source": [
        "from google.colab import drive\n",
        "drive.mount('/content/drive')"
      ],
      "metadata": {
        "id": "eeerzsq3ZXrg",
        "colab": {
          "base_uri": "https://localhost:8080/"
        },
        "outputId": "da068bcb-85ac-4732-8d15-19e091a18766"
      },
      "execution_count": 3,
      "outputs": [
        {
          "output_type": "stream",
          "name": "stdout",
          "text": [
            "Mounted at /content/drive\n"
          ]
        }
      ]
    },
    {
      "cell_type": "code",
      "execution_count": null,
      "metadata": {
        "id": "M0n3_EmAXwUd"
      },
      "outputs": [],
      "source": [
        "df.info()"
      ]
    },
    {
      "cell_type": "code",
      "execution_count": null,
      "metadata": {
        "id": "V8Z5u_t3XzxD"
      },
      "outputs": [],
      "source": [
        "df.describe()"
      ]
    },
    {
      "cell_type": "code",
      "execution_count": null,
      "metadata": {
        "id": "ZqbBhcgfX5YI"
      },
      "outputs": [],
      "source": [
        "df=df.drop(columns=['order'])"
      ]
    },
    {
      "cell_type": "code",
      "execution_count": null,
      "metadata": {
        "id": "7_HQ-6t2Yevb"
      },
      "outputs": [],
      "source": [
        "df.head()"
      ]
    },
    {
      "cell_type": "code",
      "source": [
        "for i in df.columns:\n",
        "  print(df[i].value_counts())"
      ],
      "metadata": {
        "id": "v6vRZmXAd8ay"
      },
      "execution_count": null,
      "outputs": []
    },
    {
      "cell_type": "code",
      "execution_count": null,
      "metadata": {
        "id": "XeOeLLpgc1II"
      },
      "outputs": [],
      "source": [
        "scaler = sklearn.preprocessing.MinMaxScaler()\n",
        "features_normal = scaler.fit_transform(df)\n"
      ]
    },
    {
      "cell_type": "code",
      "execution_count": null,
      "metadata": {
        "id": "2XhfmSyWTsP0"
      },
      "outputs": [],
      "source": [
        "df_scaled=pd.DataFrame(features_normal,columns=df.columns)\n",
        "df_scaled.head()"
      ]
    },
    {
      "cell_type": "code",
      "execution_count": null,
      "metadata": {
        "id": "31t6Fb_WdIgX"
      },
      "outputs": [],
      "source": [
        "wcss=[]\n",
        "\n",
        "for i in range(1,20):\n",
        "  kmeans=KMeans(n_clusters=i,init='k-means++',random_state=90)\n",
        "  kmeans.fit(features_normal)\n",
        "\n",
        "  wcss.append(kmeans.inertia_)\n"
      ]
    },
    {
      "cell_type": "code",
      "execution_count": null,
      "metadata": {
        "id": "KtDqJPfh7IVf"
      },
      "outputs": [],
      "source": [
        "#plot elbow graph \n",
        "sns.set()\n",
        "plt.plot(range(1,20),wcss,'bx-')\n",
        "plt.title('The Graph')\n",
        "plt.xlabel('No of clusters')\n",
        "plt.ylabel('WCSS')\n",
        "plt.show()"
      ]
    },
    {
      "cell_type": "code",
      "execution_count": null,
      "metadata": {
        "id": "0pNe_FBz7jcL"
      },
      "outputs": [],
      "source": [
        "kmeans=KMeans(n_clusters=3,init='k-means++',random_state=4)\n",
        "Y=kmeans.fit_predict(features_normal)"
      ]
    },
    {
      "cell_type": "code",
      "execution_count": null,
      "metadata": {
        "id": "4dVbzAgVAqkn"
      },
      "outputs": [],
      "source": [
        "labels = pd.DataFrame(kmeans.labels_) #This is where the label output of the KMeans we just ran lives. Make it a dataframe so we can concatenate back to the original data\n",
        "df_labels = pd.concat((df,labels),axis=1)\n",
        "df_labels= df_labels.rename({0:'labels'},axis=1)"
      ]
    },
    {
      "cell_type": "code",
      "execution_count": null,
      "metadata": {
        "id": "oS267yOFCM1c"
      },
      "outputs": [],
      "source": [
        "df_labels.head()"
      ]
    },
    {
      "cell_type": "code",
      "execution_count": null,
      "metadata": {
        "id": "Yw7jAHAyBqEh"
      },
      "outputs": [],
      "source": [
        "sns.scatterplot(x='customer',y='total_items',data=df_labels,hue='labels',palette='bright',edgecolor='none')"
      ]
    },
    {
      "cell_type": "code",
      "source": [
        "sns.barplot(df_labels['labels'],df['Health%']);"
      ],
      "metadata": {
        "id": "XM_wzaIEEg-W"
      },
      "execution_count": null,
      "outputs": []
    },
    {
      "cell_type": "code",
      "source": [
        "sns.barplot(df_labels['labels'],df['total_items']);"
      ],
      "metadata": {
        "id": "RFkDb9IWY_9S"
      },
      "execution_count": null,
      "outputs": []
    },
    {
      "cell_type": "code",
      "source": [
        "sns.boxplot(data=df_labels,x='labels',y='weekday');"
      ],
      "metadata": {
        "id": "DwImafuScWgs"
      },
      "execution_count": null,
      "outputs": []
    },
    {
      "cell_type": "code",
      "source": [
        "sns.boxplot(data=df_labels,x='labels',y='Baby%',showfliers=False);"
      ],
      "metadata": {
        "id": "gOUoPC7OcWla"
      },
      "execution_count": null,
      "outputs": []
    },
    {
      "cell_type": "code",
      "source": [
        "sns.boxplot(data=df_labels,x='labels',y='discount%',showfliers=False);"
      ],
      "metadata": {
        "id": "psC9NoWyct-D"
      },
      "execution_count": null,
      "outputs": []
    },
    {
      "cell_type": "code",
      "source": [
        "sns.distplot(x=df_labels['hour'],kde=False)"
      ],
      "metadata": {
        "id": "o7nFmwWYL73f"
      },
      "execution_count": null,
      "outputs": []
    },
    {
      "cell_type": "code",
      "source": [
        "labeled=df_labels.to_csv('customer_data_with_labels.csv',index=False)"
      ],
      "metadata": {
        "id": "l7O1GKV_E5Rl"
      },
      "execution_count": null,
      "outputs": []
    },
    {
      "cell_type": "code",
      "source": [
        "label = pd.DataFrame(kmeans.labels_) #This is where the label output of the KMeans we just ran lives. Make it a dataframe so we can concatenate back to the original data\n",
        "df_pca = pd.concat((df_scaled,labels),axis=1)\n",
        "df_pca= df_pca.rename({0:'labels'},axis=1)"
      ],
      "metadata": {
        "id": "prLvdxDaZ3vh"
      },
      "execution_count": null,
      "outputs": []
    },
    {
      "cell_type": "code",
      "source": [
        "from sklearn.decomposition import PCA\n",
        "pca = PCA(n_components=2)\n",
        "principalComponents = pca.fit_transform(df_pca)\n",
        "principalDf = pd.DataFrame(data = principalComponents\n",
        "             , columns = ['col1', 'col2'])"
      ],
      "metadata": {
        "id": "0JqvPGAJR9wL"
      },
      "execution_count": null,
      "outputs": []
    },
    {
      "cell_type": "code",
      "source": [
        "principalDf.head()"
      ],
      "metadata": {
        "id": "hD512JYFZr30"
      },
      "execution_count": null,
      "outputs": []
    },
    {
      "cell_type": "code",
      "source": [
        "finalDf = pd.concat([principalDf, df_labels[['labels']]], axis = 1)\n",
        "finalDf.head()"
      ],
      "metadata": {
        "id": "a5u0yuQlZuuX"
      },
      "execution_count": null,
      "outputs": []
    },
    {
      "cell_type": "code",
      "source": [
        "sns.scatterplot(x='col1',y='col2',data=finalDf,hue='labels',palette='bright',edgecolor='none')"
      ],
      "metadata": {
        "id": "kJng6ZLNaR2a"
      },
      "execution_count": null,
      "outputs": []
    },
    {
      "cell_type": "code",
      "source": [
        "df_corr=df.corr()"
      ],
      "metadata": {
        "id": "3bW3rGEdafnu"
      },
      "execution_count": null,
      "outputs": []
    },
    {
      "cell_type": "code",
      "source": [
        "sns.heatmap(df_corr,annot=False)"
      ],
      "metadata": {
        "id": "3oYByugubyM-"
      },
      "execution_count": null,
      "outputs": []
    },
    {
      "cell_type": "code",
      "source": [
        ""
      ],
      "metadata": {
        "id": "CiZSdU0Eb1XP"
      },
      "execution_count": null,
      "outputs": []
    }
  ],
  "metadata": {
    "colab": {
      "collapsed_sections": [],
      "name": "Copy of Copy of Untitled9.ipynb",
      "provenance": [],
      "mount_file_id": "1459Dn444YlD3qhcIokGJSgR_Ay20brSb",
      "authorship_tag": "ABX9TyPHqGJCalqaLiEToK+Nha4y",
      "include_colab_link": true
    },
    "kernelspec": {
      "display_name": "Python 3",
      "name": "python3"
    },
    "language_info": {
      "name": "python"
    },
    "accelerator": "GPU",
    "gpuClass": "standard"
  },
  "nbformat": 4,
  "nbformat_minor": 0
}